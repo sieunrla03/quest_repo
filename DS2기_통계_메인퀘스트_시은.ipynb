{
  "nbformat": 4,
  "nbformat_minor": 0,
  "metadata": {
    "colab": {
      "provenance": [],
      "include_colab_link": true
    },
    "kernelspec": {
      "name": "python3",
      "display_name": "Python 3"
    },
    "language_info": {
      "name": "python"
    }
  },
  "cells": [
    {
      "cell_type": "markdown",
      "metadata": {
        "id": "view-in-github",
        "colab_type": "text"
      },
      "source": [
        "<a href=\"https://colab.research.google.com/github/sieunrla03/quest_repo/blob/main/DS2%EA%B8%B0_%ED%86%B5%EA%B3%84_%EB%A9%94%EC%9D%B8%ED%80%98%EC%8A%A4%ED%8A%B8_%EC%8B%9C%EC%9D%80.ipynb\" target=\"_parent\"><img src=\"https://colab.research.google.com/assets/colab-badge.svg\" alt=\"Open In Colab\"/></a>"
      ]
    },
    {
      "cell_type": "code",
      "source": [
        "import pandas as pd\n",
        "import numpy as np\n",
        "import matplotlib.pyplot as plt\n",
        "import seaborn as sns"
      ],
      "metadata": {
        "id": "0fq_tc1K-GSO"
      },
      "execution_count": 1,
      "outputs": []
    },
    {
      "cell_type": "code",
      "source": [
        "!pip install koreanize-matplotlib"
      ],
      "metadata": {
        "colab": {
          "base_uri": "https://localhost:8080/"
        },
        "id": "msei7zohIFqb",
        "outputId": "54b93dd4-5eaa-4be8-87fe-a64079488f10"
      },
      "execution_count": 2,
      "outputs": [
        {
          "output_type": "stream",
          "name": "stdout",
          "text": [
            "Requirement already satisfied: koreanize-matplotlib in /usr/local/lib/python3.10/dist-packages (0.1.1)\n",
            "Requirement already satisfied: matplotlib in /usr/local/lib/python3.10/dist-packages (from koreanize-matplotlib) (3.7.1)\n",
            "Requirement already satisfied: contourpy>=1.0.1 in /usr/local/lib/python3.10/dist-packages (from matplotlib->koreanize-matplotlib) (1.2.1)\n",
            "Requirement already satisfied: cycler>=0.10 in /usr/local/lib/python3.10/dist-packages (from matplotlib->koreanize-matplotlib) (0.12.1)\n",
            "Requirement already satisfied: fonttools>=4.22.0 in /usr/local/lib/python3.10/dist-packages (from matplotlib->koreanize-matplotlib) (4.53.1)\n",
            "Requirement already satisfied: kiwisolver>=1.0.1 in /usr/local/lib/python3.10/dist-packages (from matplotlib->koreanize-matplotlib) (1.4.5)\n",
            "Requirement already satisfied: numpy>=1.20 in /usr/local/lib/python3.10/dist-packages (from matplotlib->koreanize-matplotlib) (1.25.2)\n",
            "Requirement already satisfied: packaging>=20.0 in /usr/local/lib/python3.10/dist-packages (from matplotlib->koreanize-matplotlib) (24.1)\n",
            "Requirement already satisfied: pillow>=6.2.0 in /usr/local/lib/python3.10/dist-packages (from matplotlib->koreanize-matplotlib) (9.4.0)\n",
            "Requirement already satisfied: pyparsing>=2.3.1 in /usr/local/lib/python3.10/dist-packages (from matplotlib->koreanize-matplotlib) (3.1.2)\n",
            "Requirement already satisfied: python-dateutil>=2.7 in /usr/local/lib/python3.10/dist-packages (from matplotlib->koreanize-matplotlib) (2.8.2)\n",
            "Requirement already satisfied: six>=1.5 in /usr/local/lib/python3.10/dist-packages (from python-dateutil>=2.7->matplotlib->koreanize-matplotlib) (1.16.0)\n"
          ]
        }
      ]
    },
    {
      "cell_type": "code",
      "source": [
        "# !pip install koreanize-matplotlib\n",
        "import koreanize_matplotlib\n",
        "\n",
        "%config InlineBackend.figure_format = 'retina'"
      ],
      "metadata": {
        "id": "Hxa06lg7-FAX"
      },
      "execution_count": 3,
      "outputs": []
    },
    {
      "cell_type": "code",
      "source": [
        "df = pd.read_parquet(\"https://github.com/corazzon/KaggleStruggle/raw/master/online-retail/data/online_retail.gzip\")\n",
        "df.shape"
      ],
      "metadata": {
        "id": "oItbCHlY-IbX",
        "colab": {
          "base_uri": "https://localhost:8080/"
        },
        "outputId": "4c84db5f-3796-4732-9e68-b3e99d2a99b3"
      },
      "execution_count": 4,
      "outputs": [
        {
          "output_type": "execute_result",
          "data": {
            "text/plain": [
              "(541909, 8)"
            ]
          },
          "metadata": {},
          "execution_count": 4
        }
      ]
    },
    {
      "cell_type": "code",
      "source": [
        "df.head()"
      ],
      "metadata": {
        "id": "lNqdafOU-I7W",
        "colab": {
          "base_uri": "https://localhost:8080/",
          "height": 206
        },
        "outputId": "8f0a5046-4160-4865-d4bd-239739f9a0cd"
      },
      "execution_count": 5,
      "outputs": [
        {
          "output_type": "execute_result",
          "data": {
            "text/plain": [
              "  InvoiceNo StockCode                          Description  Quantity  \\\n",
              "0    536365    85123A   WHITE HANGING HEART T-LIGHT HOLDER         6   \n",
              "1    536365     71053                  WHITE METAL LANTERN         6   \n",
              "2    536365    84406B       CREAM CUPID HEARTS COAT HANGER         8   \n",
              "3    536365    84029G  KNITTED UNION FLAG HOT WATER BOTTLE         6   \n",
              "4    536365    84029E       RED WOOLLY HOTTIE WHITE HEART.         6   \n",
              "\n",
              "           InvoiceDate  UnitPrice  CustomerID         Country  \n",
              "0  2010-12-01 08:26:00       2.55     17850.0  United Kingdom  \n",
              "1  2010-12-01 08:26:00       3.39     17850.0  United Kingdom  \n",
              "2  2010-12-01 08:26:00       2.75     17850.0  United Kingdom  \n",
              "3  2010-12-01 08:26:00       3.39     17850.0  United Kingdom  \n",
              "4  2010-12-01 08:26:00       3.39     17850.0  United Kingdom  "
            ],
            "text/html": [
              "\n",
              "  <div id=\"df-cc3e2c6c-0818-4b9d-b48a-5526cad98e88\" class=\"colab-df-container\">\n",
              "    <div>\n",
              "<style scoped>\n",
              "    .dataframe tbody tr th:only-of-type {\n",
              "        vertical-align: middle;\n",
              "    }\n",
              "\n",
              "    .dataframe tbody tr th {\n",
              "        vertical-align: top;\n",
              "    }\n",
              "\n",
              "    .dataframe thead th {\n",
              "        text-align: right;\n",
              "    }\n",
              "</style>\n",
              "<table border=\"1\" class=\"dataframe\">\n",
              "  <thead>\n",
              "    <tr style=\"text-align: right;\">\n",
              "      <th></th>\n",
              "      <th>InvoiceNo</th>\n",
              "      <th>StockCode</th>\n",
              "      <th>Description</th>\n",
              "      <th>Quantity</th>\n",
              "      <th>InvoiceDate</th>\n",
              "      <th>UnitPrice</th>\n",
              "      <th>CustomerID</th>\n",
              "      <th>Country</th>\n",
              "    </tr>\n",
              "  </thead>\n",
              "  <tbody>\n",
              "    <tr>\n",
              "      <th>0</th>\n",
              "      <td>536365</td>\n",
              "      <td>85123A</td>\n",
              "      <td>WHITE HANGING HEART T-LIGHT HOLDER</td>\n",
              "      <td>6</td>\n",
              "      <td>2010-12-01 08:26:00</td>\n",
              "      <td>2.55</td>\n",
              "      <td>17850.0</td>\n",
              "      <td>United Kingdom</td>\n",
              "    </tr>\n",
              "    <tr>\n",
              "      <th>1</th>\n",
              "      <td>536365</td>\n",
              "      <td>71053</td>\n",
              "      <td>WHITE METAL LANTERN</td>\n",
              "      <td>6</td>\n",
              "      <td>2010-12-01 08:26:00</td>\n",
              "      <td>3.39</td>\n",
              "      <td>17850.0</td>\n",
              "      <td>United Kingdom</td>\n",
              "    </tr>\n",
              "    <tr>\n",
              "      <th>2</th>\n",
              "      <td>536365</td>\n",
              "      <td>84406B</td>\n",
              "      <td>CREAM CUPID HEARTS COAT HANGER</td>\n",
              "      <td>8</td>\n",
              "      <td>2010-12-01 08:26:00</td>\n",
              "      <td>2.75</td>\n",
              "      <td>17850.0</td>\n",
              "      <td>United Kingdom</td>\n",
              "    </tr>\n",
              "    <tr>\n",
              "      <th>3</th>\n",
              "      <td>536365</td>\n",
              "      <td>84029G</td>\n",
              "      <td>KNITTED UNION FLAG HOT WATER BOTTLE</td>\n",
              "      <td>6</td>\n",
              "      <td>2010-12-01 08:26:00</td>\n",
              "      <td>3.39</td>\n",
              "      <td>17850.0</td>\n",
              "      <td>United Kingdom</td>\n",
              "    </tr>\n",
              "    <tr>\n",
              "      <th>4</th>\n",
              "      <td>536365</td>\n",
              "      <td>84029E</td>\n",
              "      <td>RED WOOLLY HOTTIE WHITE HEART.</td>\n",
              "      <td>6</td>\n",
              "      <td>2010-12-01 08:26:00</td>\n",
              "      <td>3.39</td>\n",
              "      <td>17850.0</td>\n",
              "      <td>United Kingdom</td>\n",
              "    </tr>\n",
              "  </tbody>\n",
              "</table>\n",
              "</div>\n",
              "    <div class=\"colab-df-buttons\">\n",
              "\n",
              "  <div class=\"colab-df-container\">\n",
              "    <button class=\"colab-df-convert\" onclick=\"convertToInteractive('df-cc3e2c6c-0818-4b9d-b48a-5526cad98e88')\"\n",
              "            title=\"Convert this dataframe to an interactive table.\"\n",
              "            style=\"display:none;\">\n",
              "\n",
              "  <svg xmlns=\"http://www.w3.org/2000/svg\" height=\"24px\" viewBox=\"0 -960 960 960\">\n",
              "    <path d=\"M120-120v-720h720v720H120Zm60-500h600v-160H180v160Zm220 220h160v-160H400v160Zm0 220h160v-160H400v160ZM180-400h160v-160H180v160Zm440 0h160v-160H620v160ZM180-180h160v-160H180v160Zm440 0h160v-160H620v160Z\"/>\n",
              "  </svg>\n",
              "    </button>\n",
              "\n",
              "  <style>\n",
              "    .colab-df-container {\n",
              "      display:flex;\n",
              "      gap: 12px;\n",
              "    }\n",
              "\n",
              "    .colab-df-convert {\n",
              "      background-color: #E8F0FE;\n",
              "      border: none;\n",
              "      border-radius: 50%;\n",
              "      cursor: pointer;\n",
              "      display: none;\n",
              "      fill: #1967D2;\n",
              "      height: 32px;\n",
              "      padding: 0 0 0 0;\n",
              "      width: 32px;\n",
              "    }\n",
              "\n",
              "    .colab-df-convert:hover {\n",
              "      background-color: #E2EBFA;\n",
              "      box-shadow: 0px 1px 2px rgba(60, 64, 67, 0.3), 0px 1px 3px 1px rgba(60, 64, 67, 0.15);\n",
              "      fill: #174EA6;\n",
              "    }\n",
              "\n",
              "    .colab-df-buttons div {\n",
              "      margin-bottom: 4px;\n",
              "    }\n",
              "\n",
              "    [theme=dark] .colab-df-convert {\n",
              "      background-color: #3B4455;\n",
              "      fill: #D2E3FC;\n",
              "    }\n",
              "\n",
              "    [theme=dark] .colab-df-convert:hover {\n",
              "      background-color: #434B5C;\n",
              "      box-shadow: 0px 1px 3px 1px rgba(0, 0, 0, 0.15);\n",
              "      filter: drop-shadow(0px 1px 2px rgba(0, 0, 0, 0.3));\n",
              "      fill: #FFFFFF;\n",
              "    }\n",
              "  </style>\n",
              "\n",
              "    <script>\n",
              "      const buttonEl =\n",
              "        document.querySelector('#df-cc3e2c6c-0818-4b9d-b48a-5526cad98e88 button.colab-df-convert');\n",
              "      buttonEl.style.display =\n",
              "        google.colab.kernel.accessAllowed ? 'block' : 'none';\n",
              "\n",
              "      async function convertToInteractive(key) {\n",
              "        const element = document.querySelector('#df-cc3e2c6c-0818-4b9d-b48a-5526cad98e88');\n",
              "        const dataTable =\n",
              "          await google.colab.kernel.invokeFunction('convertToInteractive',\n",
              "                                                    [key], {});\n",
              "        if (!dataTable) return;\n",
              "\n",
              "        const docLinkHtml = 'Like what you see? Visit the ' +\n",
              "          '<a target=\"_blank\" href=https://colab.research.google.com/notebooks/data_table.ipynb>data table notebook</a>'\n",
              "          + ' to learn more about interactive tables.';\n",
              "        element.innerHTML = '';\n",
              "        dataTable['output_type'] = 'display_data';\n",
              "        await google.colab.output.renderOutput(dataTable, element);\n",
              "        const docLink = document.createElement('div');\n",
              "        docLink.innerHTML = docLinkHtml;\n",
              "        element.appendChild(docLink);\n",
              "      }\n",
              "    </script>\n",
              "  </div>\n",
              "\n",
              "\n",
              "<div id=\"df-722b3599-4a53-4787-90c2-532fd73999d7\">\n",
              "  <button class=\"colab-df-quickchart\" onclick=\"quickchart('df-722b3599-4a53-4787-90c2-532fd73999d7')\"\n",
              "            title=\"Suggest charts\"\n",
              "            style=\"display:none;\">\n",
              "\n",
              "<svg xmlns=\"http://www.w3.org/2000/svg\" height=\"24px\"viewBox=\"0 0 24 24\"\n",
              "     width=\"24px\">\n",
              "    <g>\n",
              "        <path d=\"M19 3H5c-1.1 0-2 .9-2 2v14c0 1.1.9 2 2 2h14c1.1 0 2-.9 2-2V5c0-1.1-.9-2-2-2zM9 17H7v-7h2v7zm4 0h-2V7h2v10zm4 0h-2v-4h2v4z\"/>\n",
              "    </g>\n",
              "</svg>\n",
              "  </button>\n",
              "\n",
              "<style>\n",
              "  .colab-df-quickchart {\n",
              "      --bg-color: #E8F0FE;\n",
              "      --fill-color: #1967D2;\n",
              "      --hover-bg-color: #E2EBFA;\n",
              "      --hover-fill-color: #174EA6;\n",
              "      --disabled-fill-color: #AAA;\n",
              "      --disabled-bg-color: #DDD;\n",
              "  }\n",
              "\n",
              "  [theme=dark] .colab-df-quickchart {\n",
              "      --bg-color: #3B4455;\n",
              "      --fill-color: #D2E3FC;\n",
              "      --hover-bg-color: #434B5C;\n",
              "      --hover-fill-color: #FFFFFF;\n",
              "      --disabled-bg-color: #3B4455;\n",
              "      --disabled-fill-color: #666;\n",
              "  }\n",
              "\n",
              "  .colab-df-quickchart {\n",
              "    background-color: var(--bg-color);\n",
              "    border: none;\n",
              "    border-radius: 50%;\n",
              "    cursor: pointer;\n",
              "    display: none;\n",
              "    fill: var(--fill-color);\n",
              "    height: 32px;\n",
              "    padding: 0;\n",
              "    width: 32px;\n",
              "  }\n",
              "\n",
              "  .colab-df-quickchart:hover {\n",
              "    background-color: var(--hover-bg-color);\n",
              "    box-shadow: 0 1px 2px rgba(60, 64, 67, 0.3), 0 1px 3px 1px rgba(60, 64, 67, 0.15);\n",
              "    fill: var(--button-hover-fill-color);\n",
              "  }\n",
              "\n",
              "  .colab-df-quickchart-complete:disabled,\n",
              "  .colab-df-quickchart-complete:disabled:hover {\n",
              "    background-color: var(--disabled-bg-color);\n",
              "    fill: var(--disabled-fill-color);\n",
              "    box-shadow: none;\n",
              "  }\n",
              "\n",
              "  .colab-df-spinner {\n",
              "    border: 2px solid var(--fill-color);\n",
              "    border-color: transparent;\n",
              "    border-bottom-color: var(--fill-color);\n",
              "    animation:\n",
              "      spin 1s steps(1) infinite;\n",
              "  }\n",
              "\n",
              "  @keyframes spin {\n",
              "    0% {\n",
              "      border-color: transparent;\n",
              "      border-bottom-color: var(--fill-color);\n",
              "      border-left-color: var(--fill-color);\n",
              "    }\n",
              "    20% {\n",
              "      border-color: transparent;\n",
              "      border-left-color: var(--fill-color);\n",
              "      border-top-color: var(--fill-color);\n",
              "    }\n",
              "    30% {\n",
              "      border-color: transparent;\n",
              "      border-left-color: var(--fill-color);\n",
              "      border-top-color: var(--fill-color);\n",
              "      border-right-color: var(--fill-color);\n",
              "    }\n",
              "    40% {\n",
              "      border-color: transparent;\n",
              "      border-right-color: var(--fill-color);\n",
              "      border-top-color: var(--fill-color);\n",
              "    }\n",
              "    60% {\n",
              "      border-color: transparent;\n",
              "      border-right-color: var(--fill-color);\n",
              "    }\n",
              "    80% {\n",
              "      border-color: transparent;\n",
              "      border-right-color: var(--fill-color);\n",
              "      border-bottom-color: var(--fill-color);\n",
              "    }\n",
              "    90% {\n",
              "      border-color: transparent;\n",
              "      border-bottom-color: var(--fill-color);\n",
              "    }\n",
              "  }\n",
              "</style>\n",
              "\n",
              "  <script>\n",
              "    async function quickchart(key) {\n",
              "      const quickchartButtonEl =\n",
              "        document.querySelector('#' + key + ' button');\n",
              "      quickchartButtonEl.disabled = true;  // To prevent multiple clicks.\n",
              "      quickchartButtonEl.classList.add('colab-df-spinner');\n",
              "      try {\n",
              "        const charts = await google.colab.kernel.invokeFunction(\n",
              "            'suggestCharts', [key], {});\n",
              "      } catch (error) {\n",
              "        console.error('Error during call to suggestCharts:', error);\n",
              "      }\n",
              "      quickchartButtonEl.classList.remove('colab-df-spinner');\n",
              "      quickchartButtonEl.classList.add('colab-df-quickchart-complete');\n",
              "    }\n",
              "    (() => {\n",
              "      let quickchartButtonEl =\n",
              "        document.querySelector('#df-722b3599-4a53-4787-90c2-532fd73999d7 button');\n",
              "      quickchartButtonEl.style.display =\n",
              "        google.colab.kernel.accessAllowed ? 'block' : 'none';\n",
              "    })();\n",
              "  </script>\n",
              "</div>\n",
              "\n",
              "    </div>\n",
              "  </div>\n"
            ],
            "application/vnd.google.colaboratory.intrinsic+json": {
              "type": "dataframe",
              "variable_name": "df"
            }
          },
          "metadata": {},
          "execution_count": 5
        }
      ]
    },
    {
      "cell_type": "code",
      "source": [
        "df.info()"
      ],
      "metadata": {
        "id": "_PBKE4Mg-KPM",
        "colab": {
          "base_uri": "https://localhost:8080/"
        },
        "outputId": "fbe755dd-9873-4fa4-ee59-9af74653f1ea"
      },
      "execution_count": 6,
      "outputs": [
        {
          "output_type": "stream",
          "name": "stdout",
          "text": [
            "<class 'pandas.core.frame.DataFrame'>\n",
            "RangeIndex: 541909 entries, 0 to 541908\n",
            "Data columns (total 8 columns):\n",
            " #   Column       Non-Null Count   Dtype   \n",
            "---  ------       --------------   -----   \n",
            " 0   InvoiceNo    541909 non-null  category\n",
            " 1   StockCode    541909 non-null  category\n",
            " 2   Description  540455 non-null  category\n",
            " 3   Quantity     541909 non-null  int32   \n",
            " 4   InvoiceDate  541909 non-null  category\n",
            " 5   UnitPrice    541909 non-null  float64 \n",
            " 6   CustomerID   406829 non-null  float32 \n",
            " 7   Country      541909 non-null  category\n",
            "dtypes: category(5), float32(1), float64(1), int32(1)\n",
            "memory usage: 15.1 MB\n"
          ]
        }
      ]
    },
    {
      "cell_type": "markdown",
      "source": [
        "## 미션 1) 모집단과 표본 추출을 하고 TotalPrice에 대해 비교해 주세요.\n",
        "데이터셋에서 무작위로 1000개의 표본을 추출하고, 추출된 표본과 전체 데이터셋의 'TotalPrice'에 대해 평균과 표준편차를 비교하세요. \\\n",
        "이를 통해 모집단과 표본의 차이를 설명하고, 중심극한정리가 어떻게 적용되는지 설명하세요.\n",
        "\n",
        "- pandas 의 sample 을 활용할 수 있으며, pandas 의 기술 통계 기능을 활용해 볼 수 있습니다.\n",
        "\n",
        "아래의 코드를 활용하세요.\n",
        "\n",
        "```python\n",
        "# 주문 날짜 데이터 전처리\n",
        "df[\"InvoiceDate\"] = pd.to_datetime(df[\"InvoiceDate\"].astype(str))\n",
        "df[\"InvoiceMonth\"] = df[\"InvoiceDate\"].dt.month\n",
        "\n",
        "# 데이터 타입 변경\n",
        "df[\"Country\"] = df[\"Country\"].astype(str)\n",
        "\n",
        "# 주문 가격\n",
        "df[\"TotalPrice\"] = df[\"Quantity\"] * df[\"UnitPrice\"]\n",
        "df.head()\n",
        "```"
      ],
      "metadata": {
        "id": "9K0lJHcPHnON"
      }
    },
    {
      "cell_type": "code",
      "source": [
        "# 주문 날짜 데이터 전처리\n",
        "df[\"InvoiceDate\"] = pd.to_datetime(df[\"InvoiceDate\"].astype(str))\n",
        "df[\"InvoiceMonth\"] = df[\"InvoiceDate\"].dt.month\n",
        "\n",
        "# 데이터 타입 변경\n",
        "df[\"Country\"] = df[\"Country\"].astype(str)\n",
        "\n",
        "# 주문 가격\n",
        "df[\"TotalPrice\"] = df[\"Quantity\"] * df[\"UnitPrice\"]\n",
        "df.head()\n",
        "\n",
        "# 모집단 분석\n",
        "population_mean = df['TotalPrice'].mean() # 모집단 평균\n",
        "population_std = df['TotalPrice'].std() # 모집단 표준편차\n",
        "\n",
        "# 표본 추출 - 1000개\n",
        "sample_mean = df.sample(1000)['TotalPrice'].mean() # 표본 평균\n",
        "sample_std = df.sample(1000)['TotalPrice'].std() # 표본 표준편차\n",
        "\n",
        "print(\"모집단 평균:\", population_mean)\n",
        "print(\"모집단 표준편차:\", population_std)\n",
        "print(\"표본 평균:\", sample_mean)\n",
        "print(\"표본 표준편차:\", sample_std)"
      ],
      "metadata": {
        "id": "T9PcGbArHl9y",
        "colab": {
          "base_uri": "https://localhost:8080/"
        },
        "outputId": "a873dc3d-4c0f-4c59-8ff0-6b94e106d69c"
      },
      "execution_count": 7,
      "outputs": [
        {
          "output_type": "stream",
          "name": "stdout",
          "text": [
            "모집단 평균: 17.98779487699964\n",
            "모집단 표준편차: 378.8108235059747\n",
            "표본 평균: 18.60782\n",
            "표본 표준편차: 37.35066281176383\n"
          ]
        }
      ]
    },
    {
      "cell_type": "markdown",
      "source": [
        "## 추출된 표본과 전체 데이터셋의 'TotalPrice'에 대해 평균과 표준편차를 비교하세요.이를 통해 모집단과 표본의 차이를 설명하고, 중심극한정리가 어떻게 적용되는지 설명하세요.\n",
        "- 평균 비교\n",
        "  - 모집단 평균은 17.9878, 표본 평균은 15.0922\n",
        "  - 표본 평균이 모집단 평균보다 조금 더 작게 나왔다. 표본이 모집단의 특성을 반영하지 못했다는 결과이지만 그리 많이 차이가 나진 않으므로 표본이 모집단의 특성을 어느 정도 반영한다고 해석할 수 있겠음\n",
        "- 표준편차 비교\n",
        "   - 모집단 표준편차는 378.8108, 표본 표준편차는 206.4233\n",
        "   - 표준편차도 평균과 같이 표본 표준편차가 모집단 표준편차보다 작다. 하지만 이것은 표본 크기가 모집단에 비해서 작기 때문일 수 있고 일반적으로 표본의 표준편차는 모집단 표준편차보다 작게 나타나는 경향이 있다고 한다.\n",
        "- 모집단과 표본의 차이\n",
        "  - 위에서 이미 비교를 마쳤지만 정리하자면\n",
        "  - 표본은 모집단의 일부라서 표본의 평균과 표준편차는 모집단의 평균과 표준편차랑 정확히 일치할 순 없음\n",
        "  - 표본의 크기가 클수록 표본의 통계량은 모집단의 통계량과 가까워짐\n",
        "- 중심극한정리가 어떻게 적용되는지\n",
        "    - 표본의 크기가 일정수치 클 경우, 표본 평균의 분포는 모집단의 분포가 어떤 형태이든 정규 분포에 가까워진다.\n",
        "    - 이를 통해서 모집단의 평균에 대한 추론 가능"
      ],
      "metadata": {
        "id": "gMok4dG0Ks7f"
      }
    },
    {
      "cell_type": "markdown",
      "source": [
        "## 미션2) 'Country' 변수를 바탕으로 가장 빈도가 높은 두 개의 국가를 선택하고, 각 국가의 'TotalPrice' 평균에 차이가 있는지 검증하세요. 독립표본 t-검정을 사용하여 가설을 설정하고 검정하며, 1종 오류와 2종 오류에 대해 설명하세요.\n",
        "\n",
        "\n",
        "* 미션 진행 방법\n",
        "    <br>1) 데이터 로드 후 'TotalPrice'와 'Country' 컬럼을 찾아주세요.\n",
        "    <br>2) 데이터셋에서 주문이 가장 많은 상위 두 국가를 찾아주세요.\n",
        "    <br>3) 통계적 검증 수행하기\n",
        "    <br>4) 각 국가의 'TotalPrice' 평균을 계산하세요.\n",
        "    <br>5) 독립표본 t-검정을 사용하여 두 국가 간 'TotalPrice' 평균의 차이가 통계적으로 유의미한지 검증하세요. 이 때, scipy.stats 라이브러리의 ttest_ind 함수를 사용할 수 있습니다. equal_var=False 파라미터를 설정하여 두 집단의 분산이 다르다고 가정하세요.\n",
        "    <br>6) t-통계량과 p-값을 해석하여 결과를 설명하세요. 1종 오류와 2종 오류의 개념을 설명하고, 해당 데이터셋에 적용하여 설명해 주세요."
      ],
      "metadata": {
        "id": "KJoQ5gYYHqvY"
      }
    },
    {
      "cell_type": "code",
      "source": [
        "import pandas as pd\n",
        "from scipy.stats import ttest_ind\n",
        "\n",
        "# 데이터셋 불러오기 (데이터셋 경로에 맞게 수정하세요)\n",
        "# df = pd.read_csv('your_dataset.csv')\n",
        "\n",
        "# 필요한 칼럼만 선택\n",
        "df_m1 = df[['TotalPrice', 'Country']]\n",
        "\n",
        "# 데이터셋에서 주문이 가장 많은 상위 두 국가 찾기\n",
        "top_countries = df_m1['Country'].value_counts().nlargest(2).index\n",
        "# nlargest는 구글링해서 찾은 판다스의 함수인데 판다스 공식문서를 인용하자면 '열을 기준으로 내림차순으로 정렬한 처음 n 개 행을 반환할 수 있는 기능'이라고 한다.\n",
        "\n",
        "# 상위 두 국가의 데이터 필터링\n",
        "country1 = df_m1[df_m1['Country'] == top_countries[0]]['TotalPrice']\n",
        "country2 = df_m1[df_m1['Country'] == top_countries[1]]['TotalPrice']\n",
        "\n",
        "# 각 국가의 'TotalPrice' 평균 계산\n",
        "mean_country1 = country1.mean()\n",
        "mean_country2 = country2.mean()\n",
        "\n",
        "print(f\"{top_countries[0]}의 평균 TotalPrice: {mean_country1}\")\n",
        "print(f\"{top_countries[1]}의 평균 TotalPrice: {mean_country2}\")\n",
        "\n",
        "# 독립표본 t-검정 수행 (equal_var=False는 두 집단의 분산이 다르다고 가정)\n",
        "t_stat, p_value = ttest_ind(country1, country2, equal_var=False)\n",
        "\n",
        "print(f\"t-통계량: {t_stat}\")\n",
        "print(f\"p-값: {p_value}\")\n"
      ],
      "metadata": {
        "id": "7JDKU9PRHSoZ",
        "colab": {
          "base_uri": "https://localhost:8080/"
        },
        "outputId": "107aa53c-dd38-428c-af42-0444cff5853e"
      },
      "execution_count": 8,
      "outputs": [
        {
          "output_type": "stream",
          "name": "stdout",
          "text": [
            "United Kingdom의 평균 TotalPrice: 16.525065419655366\n",
            "Germany의 평균 TotalPrice: 23.348942601369142\n",
            "t-통계량: -10.046360185819829\n",
            "p-값: 9.823416115791871e-24\n"
          ]
        }
      ]
    },
    {
      "cell_type": "markdown",
      "source": [
        "## t-통계량과 p-값을 해석하여 결과를 설명하세요. 1종 오류와 2종 오류의 개념을 설명하고, 해당 데이터셋에 적용하여 설명해 주세요.\n",
        "- t-통계량은 -10.046360185819829\n",
        "  - 두 표본 평균 간의 차이가 표준오차의 몇 배인지를 나타내는 값\n",
        "  - 위 결과 t-통계량이 매우 큰 절대값을 가지므로 두 표본 평균 간의 차이가 크다는 결과 도출이 가능\n",
        "- p-값은 9.823416115791871e-24\n",
        "  - p-값은 귀무가설이 참이라는 가정하에 관측된 데이터보다 더 극단적인 결과가 나올 확률을 의미\n",
        "  - 위 결과 p-값이 0.05보다 훨씬 작기때문에 귀무가설 기각할 수 있는 근거가 있음\n",
        "\n",
        "- 귀무가설H0 : 두 국가의 TotalPrice 평균에 차이가 없음\n",
        "- 대립가설H1 : 두 국가의 TotalPrice 평균의 차이가 있음\n",
        "\n",
        "\n",
        "- 1종오류와 2종오류 개념설명\n",
        "  - 1종 오류 : 귀무가설이 실제로는 참이어서 채택해야 함에도 불구하고 표본의 오차때문에 이를 채택하지 않는 오류를 뜻함, 보통 알파로 표기하고 유의수준이라 부름\n",
        "  - 귀무가설이 거짓이라서 채택하지 말아야 하는데 표본의 오차 때문에 이를 채택하는 오류를 뜻함, 보통 베타로 표기\n",
        "  (출처:https://drhongdatanote.tistory.com/76)\n",
        "\n",
        "- 위 데이터셋에 적용하여 1종 오류, 2종 오류 설명\n",
        "  - 1종 오류\n",
        "    - 실제 두 국가는 TotalPrice 평균에 차이가 없지만, 검정 결과 차이가 있다고 결론 내리는 오류\n",
        "    - 오류의 확률은 유의수준으로 설정, 0.05로 설정\n",
        "    - 현재 검정 결과 p-값이 매우 작아서 1종 오류 가능성 낮음\n",
        "  - 2종 오류\n",
        "    - 실제 두 국가의 TotalPrice 평균에 차이가 있지만, 검정 결과 차이가 없다고 결론 내리는 오류\n",
        "    - 현재 검정 결과 p-값이 매우 작아서 2종 오류 또한 가성성 낮음"
      ],
      "metadata": {
        "id": "XAtwbCYgSxvH"
      }
    },
    {
      "cell_type": "markdown",
      "source": [
        "## 미션 3) 주중, 주말에 따른 기술통계와 분위수 분석\n",
        "\n",
        "'UnitPrice'의 분포를 분석하기 위해 상자수염그림과 히스토그램을 그리세요. 데이터의 분위수, 중심경향치(평균, 중간값), 변산성(표준편차, 분산)을 계산하고, 이들이 데이터 분포에 대해 설명해 주세요. \\\n",
        "다음의 주어진 코드를 활용해 주세요.\n",
        "\n",
        "\n",
        "```python\n",
        "# 'InvoiceDate' 컬럼을 이용하여 주중과 주말을 구분\n",
        "df['InvoiceDate'] = pd.to_datetime(df['InvoiceDate'])\n",
        "df['DayOfWeek'] = df['InvoiceDate'].dt.dayofweek\n",
        "\n",
        "\n",
        "df.loc[df['DayOfWeek'] <= 4, \"WeekEnd\"] = \"주중\"\n",
        "df.loc[df['DayOfWeek'] > 4, \"WeekEnd\"] = \"주말\"\n",
        "\n",
        "# 주중(월요일=0, 화요일=1, ..., 금요일=4)과 주말(토요일=5, 일요일=6)으로 데이터를 분리\n",
        "weekday_data = df[df['DayOfWeek'] <= 4]  # 주중\n",
        "weekend_data = df[df['DayOfWeek'] > 4]   # 주말\n",
        "```"
      ],
      "metadata": {
        "id": "lt3471zxHsgH"
      }
    },
    {
      "cell_type": "code",
      "source": [
        "# # 'InvoiceDate' 컬럼을 이용하여 주중과 주말을 구분\n",
        "# df['InvoiceDate'] = pd.to_datetime(df['InvoiceDate'])\n",
        "# df['DayOfWeek'] = df['InvoiceDate'].dt.dayofweek # 요일 정보 추가\n",
        "\n",
        "# # weekEnd 컬럼 추가, 주중과 주말 구분\n",
        "# df.loc[df['DayOfWeek'] <= 4, \"WeekEnd\"] = \"주중\"\n",
        "# df.loc[df['DayOfWeek'] > 4, \"WeekEnd\"] = \"주말\"\n",
        "\n",
        "# # 주중(월요일=0, 화요일=1, ..., 금요일=4)과 주말(토요일=5, 일요일=6)으로 데이터를 분리\n",
        "# weekday_data = df[df['DayOfWeek'] <= 4]  # 주중\n",
        "# weekend_data = df[df['DayOfWeek'] > 4]   # 주말"
      ],
      "metadata": {
        "id": "E602Gn6uHt-t"
      },
      "execution_count": 9,
      "outputs": []
    },
    {
      "cell_type": "code",
      "source": [
        "# # UnitPrice 분포 분석을 위한 상자수염그림과 히스토그램 그리기\n",
        "# # 주중과 주말 UnitPrice 상자수염그림\n",
        "# plt.figure(figsize=(10,6))\n",
        "# sns.boxplot(x='WeekEnd', y='UnitPrice', data=weekday_data)\n",
        "# plt.title('UnitPrice Boxplot by Weekday')\n",
        "# plt.show()"
      ],
      "metadata": {
        "id": "xfE-i7prZLBl"
      },
      "execution_count": 10,
      "outputs": []
    },
    {
      "cell_type": "code",
      "source": [
        "import pandas as pd\n",
        "import matplotlib.pyplot as plt\n",
        "import seaborn as sns\n",
        "\n",
        "# 'InvoiceDate' 컬럼을 datetime 형식으로 변환\n",
        "df['InvoiceDate'] = pd.to_datetime(df['InvoiceDate'])\n",
        "\n",
        "# 요일 정보 추가 (월요일=0, 화요일=1, ..., 일요일=6)\n",
        "df['DayOfWeek'] = df['InvoiceDate'].dt.dayofweek\n",
        "\n",
        "# 'WeekEnd' 컬럼 추가: 주중과 주말 구분\n",
        "df.loc[df['DayOfWeek'] <= 4, \"WeekEnd\"] = \"주중\"\n",
        "df.loc[df['DayOfWeek'] > 4, \"WeekEnd\"] = \"주말\"\n",
        "\n",
        "# 주중과 주말 데이터 분리\n",
        "weekday_data = df[df['DayOfWeek'] <= 4]  # 주중\n",
        "weekend_data = df[df['DayOfWeek'] > 4]   # 주말\n",
        "\n",
        "# 주중과 주말의 UnitPrice 상자수염그림\n",
        "plt.figure(figsize=(12, 6))\n",
        "sns.boxplot(x='WeekEnd', y='UnitPrice', data=df)\n",
        "plt.title('UnitPrice Boxplot by WeekEnd')\n",
        "plt.show()\n",
        "\n",
        "# 주중과 주말의 UnitPrice 히스토그램\n",
        "plt.figure(figsize=(12, 6))\n",
        "sns.histplot(weekday_data['UnitPrice'], kde=True, color='blue', label='Weekday', bins=50)\n",
        "sns.histplot(weekend_data['UnitPrice'], kde=True, color='orange', label='Weekend', bins=50)\n",
        "plt.legend()\n",
        "plt.title('UnitPrice Histogram by WeekEnd')\n",
        "plt.show()\n",
        "\n",
        "# 주중 데이터에 대한 통계치 계산\n",
        "weekday_mean = weekday_data['UnitPrice'].mean()\n",
        "weekday_median = weekday_data['UnitPrice'].median()\n",
        "weekday_std = weekday_data['UnitPrice'].std()\n",
        "weekday_var = weekday_data['UnitPrice'].var()\n",
        "weekday_quantiles = weekday_data['UnitPrice'].quantile([0.25, 0.5, 0.75])\n",
        "\n",
        "# 주말 데이터에 대한 통계치 계산\n",
        "weekend_mean = weekend_data['UnitPrice'].mean()\n",
        "weekend_median = weekend_data['UnitPrice'].median()\n",
        "weekend_std = weekend_data['UnitPrice'].std()\n",
        "weekend_var = weekend_data['UnitPrice'].var()\n",
        "weekend_quantiles = weekend_data['UnitPrice'].quantile([0.25, 0.5, 0.75])\n",
        "\n",
        "# 결과 출력\n",
        "print(\"주중 UnitPrice 통계치\")\n",
        "print(f\"평균: {weekday_mean}\")\n",
        "print(f\"중간값: {weekday_median}\")\n",
        "print(f\"표준편차: {weekday_std}\")\n",
        "print(f\"분산: {weekday_var}\")\n",
        "print(f\"분위수(25%, 50%, 75%): {weekday_quantiles}\")\n",
        "\n",
        "print(\"\\n주말 UnitPrice 통계치\")\n",
        "print(f\"평균: {weekend_mean}\")\n",
        "print(f\"중간값: {weekend_median}\")\n",
        "print(f\"표준편차: {weekend_std}\")\n",
        "print(f\"분산: {weekend_var}\")\n",
        "print(f\"분위수(25%, 50%, 75%): {weekend_quantiles}\")\n"
      ],
      "metadata": {
        "colab": {
          "base_uri": "https://localhost:8080/",
          "height": 1000
        },
        "id": "RJIFnxqkakjV",
        "outputId": "af92b54b-499b-4e10-9e1b-1911ef770894"
      },
      "execution_count": 11,
      "outputs": [
        {
          "output_type": "display_data",
          "data": {
            "text/plain": [
              "<Figure size 1200x600 with 1 Axes>"
            ],
            "image/png": "[encoded data removed]"
          },
          "metadata": {
            "image/png": {
              "width": 1025,
              "height": 544
            }
          }
        },
        {
          "output_type": "display_data",
          "data": {
            "text/plain": [
              "<Figure size 1200x600 with 1 Axes>"
            ],
            "image/png": "[encoded data removed]"
          },
          "metadata": {
            "image/png": {
              "width": 999,
              "height": 544
            }
          }
        },
        {
          "output_type": "stream",
          "name": "stdout",
          "text": [
            "주중 UnitPrice 통계치\n",
            "평균: 4.843425333065292\n",
            "중간값: 2.1\n",
            "표준편차: 103.03205776163102\n",
            "분산: 10615.604926596072\n",
            "분위수(25%, 50%, 75%): 0.25    1.25\n",
            "0.50    2.10\n",
            "0.75    4.13\n",
            "Name: UnitPrice, dtype: float64\n",
            "\n",
            "주말 UnitPrice 통계치\n",
            "평균: 2.8878244815533978\n",
            "중간값: 1.85\n",
            "표준편차: 7.959497387498765\n",
            "분산: 63.35359866159967\n",
            "분위수(25%, 50%, 75%): 0.25    1.25\n",
            "0.50    1.85\n",
            "0.75    3.75\n",
            "Name: UnitPrice, dtype: float64\n"
          ]
        }
      ]
    },
    {
      "cell_type": "markdown",
      "source": [
        "## 데이터 분포 설명\n",
        "히스토그램 그리는데 너무 오래걸려서 kde = False로도 해보고 그랬는데 주말 그래프가 안나와서 뭐지 했는데 그냥 주말이 쥐똥만한 크기였던 거였다..이게 맞나 싶긴한데 일단 결과를 설명하자면...\n",
        "- 주중 UnitPrice의 평균이 약 4.84달러, 중간값은 2.1달러다. / 표준편차가 매우 크게 나타나는 걸 보아 주중 UnitPrice 값들이 평균을 중심으로 크게 흩어져 있음을 나타냄. / 사분위수를 보면 대부분의 데이터가 1.25달러에서 4.13달러 사이에 분포되어 있음\n",
        "- 주말 UnitPrice 평균은 2.89달러, 중간값은 1.85달러. / 주중보다 평균과 중간값이 낮음 따라서 주말에는 낮은 가격대의 제품을 구매하는 경향이 있음을 알 수 있음. / 표준편차와 분산이 주중에 비해 작게 나타나는 것으로 보아 주말 UnitPrice 값들이 평균 주변에 더 집중되어 분포 되어 있음을 확인 가능. / 사분위수를 보면 대부분 1.25달러에서 3.75달러 사이에 분포되어 있지만 주중보단 낮은 가격대에 집중되어 있는 경향"
      ],
      "metadata": {
        "id": "5nrR4m7DhKV5"
      }
    },
    {
      "cell_type": "markdown",
      "source": [
        "\n",
        "## 미션4) 심슨의 역설을 설명하기 위한 구체적인 분석을 다음의 순서로 진행해 주세요.\n",
        "\n",
        "심슨의 역설(Simpson's Paradox)은 통계 데이터를 해석할 때 발생할 수 있는 현상으로, 일부 하위 그룹에서 관찰된 추세가 전체 데이터를 합쳤을 때 반전될 수 있음을 나타냅니다. 이 현상은 복잡한 데이터에서 하위 그룹 간에 상이한 분포나 크기 때문에 발생할 수 있습니다.\n",
        "\n",
        "심슨의 역설을 설명하기 위해서는, 데이터 내에서 서로 상반된 추세를 보이는 하위 그룹을 찾거나 생성해야 합니다. 예를 들어, 특정 상품의 판매량이나 단가가 국가별로 다른 추세를 보이는지, 혹은 특정 기간 동안의 판매 추세가 전체 기간 동안의 추세와 다른지 등을 분석할 수 있습니다.\n",
        "\n",
        "데이터를 제시한 특정 국가로 하위 그룹으로 나눕니다.\n",
        "각 하위 그룹에서 총 판매금액의 추세를 분석합니다.\n",
        "전체 데이터셋에 대해 동일한 지표를 분석합니다.\n",
        "하위 그룹의 추세와 전체 데이터의 추세가 서로 다른 방향성을 보일 경우, 이를 통해 심슨의 역설을 설명합니다.\n",
        "이러한 분석을 위해, 데이터 내에서 적절한 변수와 하위 그룹을 선정하는 것이 중요합니다. 현재 제공된 데이터만으로는 심슨의 역설을 바로 설명할 수 있는 명확한 예시를 찾기 어려울 수 있지만, 데이터를 깊이 분석하면 관련 현상을 발견할 수도 있습니다.\n",
        "이를 이용해 비즈니스에 어떻게 활용할 수 있을지도 설명해 주세요.\n",
        "\n",
        "```python\n",
        "country_group = [\"Japan\", \"Hong Kong\", \"Singapore\", \"Lebanon\", \"Canada\", \"USA\"]\n",
        "```"
      ],
      "metadata": {
        "id": "ape-l8gjHuNh"
      }
    },
    {
      "cell_type": "code",
      "source": [
        "# 필요한 칼럼 선택\n",
        "df_m4 = df[['TotalPrice','Country']]\n",
        "\n",
        "# 국가 그룹 선택\n",
        "country_group = [\"Japan\", \"Hong Kong\", \"Singapore\", \"Lebanon\", \"Canada\", \"USA\"]\n",
        "\n",
        "# 각 국가별 총 판매금액 계산\n",
        "country_sales = {}\n",
        "for country in country_group:\n",
        "    total_sales = df[df['Country'] == country]['TotalPrice'].sum()\n",
        "    country_sales[country] = total_sales\n",
        "\n",
        "# 전체 데이터셋 총 판매금액 계산\n",
        "total_sales_all = df['TotalPrice'].sum()\n",
        "\n",
        "# 각 국가별 총 판매금액 출력\n",
        "print(\"각 국가별 총 판매금액:\")\n",
        "for country, sales in country_sales.items():\n",
        "    print(f\"{country}: {sales}\")\n",
        "\n",
        "# 전체 데이터셋 총 판매금액 출력\n",
        "print(f\"\\n전체 데이터셋 총 판매금액: {total_sales_all}\")\n",
        "\n",
        "# 각 국가별 판매금액 비율 계산\n",
        "country_ratios = {}\n",
        "for country, sales in country_sales.items():\n",
        "    ratio = sales / total_sales_all\n",
        "    country_ratios[country] = ratio\n",
        "\n",
        "# 각 국가별 판매금액 비율 출력\n",
        "print(\"\\n각 국가별 판매금액 비율:\")\n",
        "for country, ratio in country_ratios.items():\n",
        "    print(f\"{country}: {ratio}\")"
      ],
      "metadata": {
        "id": "__F8cRdRHuZA",
        "colab": {
          "base_uri": "https://localhost:8080/"
        },
        "outputId": "a37ecddd-f430-484e-9e7d-db96e6bda6ed"
      },
      "execution_count": 12,
      "outputs": [
        {
          "output_type": "stream",
          "name": "stdout",
          "text": [
            "각 국가별 총 판매금액:\n",
            "Japan: 35340.619999999995\n",
            "Hong Kong: 10117.04\n",
            "Singapore: 9120.39\n",
            "Lebanon: 1693.88\n",
            "Canada: 3666.38\n",
            "USA: 1730.92\n",
            "\n",
            "전체 데이터셋 총 판매금액: 9747747.933999998\n",
            "\n",
            "각 국가별 판매금액 비율:\n",
            "Japan: 0.003625516400227425\n",
            "Hong Kong: 0.001037884860021043\n",
            "Singapore: 0.0009356407307361956\n",
            "Lebanon: 0.00017377141996991654\n",
            "Canada: 0.00037612585233269335\n",
            "USA: 0.00017757127202300513\n"
          ]
        }
      ]
    },
    {
      "cell_type": "markdown",
      "source": [
        "- Japan, Hong Kong, Singapore은 상대적으로 높은 판매금액 기록\n",
        "- Lebanon, Canada, USA는 상대적 낮은 판매금액 기록\n",
        "---\n",
        "- Japan은 전체 판매의 약 0.0036%를 차지하여 가장 큰 비중 차치\n",
        "- Hong Kong, Singapore은 각각 약 0.0010%, 0.0009%를 차지\n",
        "- Labanon, Canada, USA는 각각 0.0004% 이하의 비율 차지\n",
        "---\n",
        "- 심슨의 역설\n",
        "\n",
        "심슨의 역설은 하위 그룹 간의 추세가 전체 데이터를 합쳤을 때 반전될 수 있는 현상을 설명\n",
        "\n",
        "이를 위해 각 국가 그룹을 하위 그룹으로 삼고, 전체 데이터와 비교\n",
        "\n",
        "- 현재 가장 높은 판매금액을 기록하는 Japan과 낮은 USA가 있으나 특정 카테고리 또는 기간별로 보았을 땐 이 순위가 뒤바뀔 수 있다는 예시를 들 수 있을 것 같다.\n",
        "- 특정 카테고리 별 또는 기간별로 봤을 때 가장 높은 국가와 기간을 연결시켜 어느 기간에 어떤 나라에서 가장 판매금액이 높은지를 알아서 마케팅 전략을 세우는 비즈니스 전략을 사용할 수 있을 것 같다.\n"
      ],
      "metadata": {
        "id": "IqJlE5lAozLc"
      }
    },
    {
      "cell_type": "markdown",
      "source": [
        "## 미션5) 상품의 단가와 총 판매액의 관계를 분석해 주세요.\n",
        "\n",
        "상품의 단가가 총 판매액에 미치는 영향을 이해하고 예측하는 것입니다. 이 분석은 가격 결정 전략을 개선하고, 수익성을 최대화하기 위해 사용될 수 있습니다.\n",
        "높은 단가의 상품이 더 많은 총 판매액을 생성할 것이라는 가설을 설정합니다.\n",
        "\n",
        "1) 데이터 전처리: 필요한 데이터를 정리하고, 결측치를 제거합니다.\\\n",
        "2) 단순 회귀분석: 단가(UnitPrice)를 독립변수로, 총 판매액(TotalPrice)을 종속변수로 설정하여 회귀분석을 수행합니다.\\\n",
        "3) 결과 해석: 회귀계수와 결정계수를 분석하여 상품 가격과 총 판매액 사이의 관계를 해석합니다."
      ],
      "metadata": {
        "id": "rYURnpG7Hu19"
      }
    },
    {
      "cell_type": "code",
      "source": [
        "# 데이터 전처리\n",
        "# 결측치 처리\n",
        "df_m5 = df[['UnitPrice', 'TotalPrice']]\n",
        "df_m5 = df_m5.dropna()"
      ],
      "metadata": {
        "id": "8fIomOTNHvGv"
      },
      "execution_count": 13,
      "outputs": []
    },
    {
      "cell_type": "code",
      "source": [
        "df_m5.head()"
      ],
      "metadata": {
        "colab": {
          "base_uri": "https://localhost:8080/",
          "height": 206
        },
        "id": "gWHCLKeFBtGd",
        "outputId": "281821c9-1ec7-489b-8e27-463315638b1f"
      },
      "execution_count": 14,
      "outputs": [
        {
          "output_type": "execute_result",
          "data": {
            "text/plain": [
              "   UnitPrice  TotalPrice\n",
              "0       2.55       15.30\n",
              "1       3.39       20.34\n",
              "2       2.75       22.00\n",
              "3       3.39       20.34\n",
              "4       3.39       20.34"
            ],
            "text/html": [
              "\n",
              "  <div id=\"df-15b566ca-5dbd-4689-b70a-d26e5e2082f0\" class=\"colab-df-container\">\n",
              "    <div>\n",
              "<style scoped>\n",
              "    .dataframe tbody tr th:only-of-type {\n",
              "        vertical-align: middle;\n",
              "    }\n",
              "\n",
              "    .dataframe tbody tr th {\n",
              "        vertical-align: top;\n",
              "    }\n",
              "\n",
              "    .dataframe thead th {\n",
              "        text-align: right;\n",
              "    }\n",
              "</style>\n",
              "<table border=\"1\" class=\"dataframe\">\n",
              "  <thead>\n",
              "    <tr style=\"text-align: right;\">\n",
              "      <th></th>\n",
              "      <th>UnitPrice</th>\n",
              "      <th>TotalPrice</th>\n",
              "    </tr>\n",
              "  </thead>\n",
              "  <tbody>\n",
              "    <tr>\n",
              "      <th>0</th>\n",
              "      <td>2.55</td>\n",
              "      <td>15.30</td>\n",
              "    </tr>\n",
              "    <tr>\n",
              "      <th>1</th>\n",
              "      <td>3.39</td>\n",
              "      <td>20.34</td>\n",
              "    </tr>\n",
              "    <tr>\n",
              "      <th>2</th>\n",
              "      <td>2.75</td>\n",
              "      <td>22.00</td>\n",
              "    </tr>\n",
              "    <tr>\n",
              "      <th>3</th>\n",
              "      <td>3.39</td>\n",
              "      <td>20.34</td>\n",
              "    </tr>\n",
              "    <tr>\n",
              "      <th>4</th>\n",
              "      <td>3.39</td>\n",
              "      <td>20.34</td>\n",
              "    </tr>\n",
              "  </tbody>\n",
              "</table>\n",
              "</div>\n",
              "    <div class=\"colab-df-buttons\">\n",
              "\n",
              "  <div class=\"colab-df-container\">\n",
              "    <button class=\"colab-df-convert\" onclick=\"convertToInteractive('df-15b566ca-5dbd-4689-b70a-d26e5e2082f0')\"\n",
              "            title=\"Convert this dataframe to an interactive table.\"\n",
              "            style=\"display:none;\">\n",
              "\n",
              "  <svg xmlns=\"http://www.w3.org/2000/svg\" height=\"24px\" viewBox=\"0 -960 960 960\">\n",
              "    <path d=\"M120-120v-720h720v720H120Zm60-500h600v-160H180v160Zm220 220h160v-160H400v160Zm0 220h160v-160H400v160ZM180-400h160v-160H180v160Zm440 0h160v-160H620v160ZM180-180h160v-160H180v160Zm440 0h160v-160H620v160Z\"/>\n",
              "  </svg>\n",
              "    </button>\n",
              "\n",
              "  <style>\n",
              "    .colab-df-container {\n",
              "      display:flex;\n",
              "      gap: 12px;\n",
              "    }\n",
              "\n",
              "    .colab-df-convert {\n",
              "      background-color: #E8F0FE;\n",
              "      border: none;\n",
              "      border-radius: 50%;\n",
              "      cursor: pointer;\n",
              "      display: none;\n",
              "      fill: #1967D2;\n",
              "      height: 32px;\n",
              "      padding: 0 0 0 0;\n",
              "      width: 32px;\n",
              "    }\n",
              "\n",
              "    .colab-df-convert:hover {\n",
              "      background-color: #E2EBFA;\n",
              "      box-shadow: 0px 1px 2px rgba(60, 64, 67, 0.3), 0px 1px 3px 1px rgba(60, 64, 67, 0.15);\n",
              "      fill: #174EA6;\n",
              "    }\n",
              "\n",
              "    .colab-df-buttons div {\n",
              "      margin-bottom: 4px;\n",
              "    }\n",
              "\n",
              "    [theme=dark] .colab-df-convert {\n",
              "      background-color: #3B4455;\n",
              "      fill: #D2E3FC;\n",
              "    }\n",
              "\n",
              "    [theme=dark] .colab-df-convert:hover {\n",
              "      background-color: #434B5C;\n",
              "      box-shadow: 0px 1px 3px 1px rgba(0, 0, 0, 0.15);\n",
              "      filter: drop-shadow(0px 1px 2px rgba(0, 0, 0, 0.3));\n",
              "      fill: #FFFFFF;\n",
              "    }\n",
              "  </style>\n",
              "\n",
              "    <script>\n",
              "      const buttonEl =\n",
              "        document.querySelector('#df-15b566ca-5dbd-4689-b70a-d26e5e2082f0 button.colab-df-convert');\n",
              "      buttonEl.style.display =\n",
              "        google.colab.kernel.accessAllowed ? 'block' : 'none';\n",
              "\n",
              "      async function convertToInteractive(key) {\n",
              "        const element = document.querySelector('#df-15b566ca-5dbd-4689-b70a-d26e5e2082f0');\n",
              "        const dataTable =\n",
              "          await google.colab.kernel.invokeFunction('convertToInteractive',\n",
              "                                                    [key], {});\n",
              "        if (!dataTable) return;\n",
              "\n",
              "        const docLinkHtml = 'Like what you see? Visit the ' +\n",
              "          '<a target=\"_blank\" href=https://colab.research.google.com/notebooks/data_table.ipynb>data table notebook</a>'\n",
              "          + ' to learn more about interactive tables.';\n",
              "        element.innerHTML = '';\n",
              "        dataTable['output_type'] = 'display_data';\n",
              "        await google.colab.output.renderOutput(dataTable, element);\n",
              "        const docLink = document.createElement('div');\n",
              "        docLink.innerHTML = docLinkHtml;\n",
              "        element.appendChild(docLink);\n",
              "      }\n",
              "    </script>\n",
              "  </div>\n",
              "\n",
              "\n",
              "<div id=\"df-c15c4f69-c56d-4c29-9840-7fba22f9d412\">\n",
              "  <button class=\"colab-df-quickchart\" onclick=\"quickchart('df-c15c4f69-c56d-4c29-9840-7fba22f9d412')\"\n",
              "            title=\"Suggest charts\"\n",
              "            style=\"display:none;\">\n",
              "\n",
              "<svg xmlns=\"http://www.w3.org/2000/svg\" height=\"24px\"viewBox=\"0 0 24 24\"\n",
              "     width=\"24px\">\n",
              "    <g>\n",
              "        <path d=\"M19 3H5c-1.1 0-2 .9-2 2v14c0 1.1.9 2 2 2h14c1.1 0 2-.9 2-2V5c0-1.1-.9-2-2-2zM9 17H7v-7h2v7zm4 0h-2V7h2v10zm4 0h-2v-4h2v4z\"/>\n",
              "    </g>\n",
              "</svg>\n",
              "  </button>\n",
              "\n",
              "<style>\n",
              "  .colab-df-quickchart {\n",
              "      --bg-color: #E8F0FE;\n",
              "      --fill-color: #1967D2;\n",
              "      --hover-bg-color: #E2EBFA;\n",
              "      --hover-fill-color: #174EA6;\n",
              "      --disabled-fill-color: #AAA;\n",
              "      --disabled-bg-color: #DDD;\n",
              "  }\n",
              "\n",
              "  [theme=dark] .colab-df-quickchart {\n",
              "      --bg-color: #3B4455;\n",
              "      --fill-color: #D2E3FC;\n",
              "      --hover-bg-color: #434B5C;\n",
              "      --hover-fill-color: #FFFFFF;\n",
              "      --disabled-bg-color: #3B4455;\n",
              "      --disabled-fill-color: #666;\n",
              "  }\n",
              "\n",
              "  .colab-df-quickchart {\n",
              "    background-color: var(--bg-color);\n",
              "    border: none;\n",
              "    border-radius: 50%;\n",
              "    cursor: pointer;\n",
              "    display: none;\n",
              "    fill: var(--fill-color);\n",
              "    height: 32px;\n",
              "    padding: 0;\n",
              "    width: 32px;\n",
              "  }\n",
              "\n",
              "  .colab-df-quickchart:hover {\n",
              "    background-color: var(--hover-bg-color);\n",
              "    box-shadow: 0 1px 2px rgba(60, 64, 67, 0.3), 0 1px 3px 1px rgba(60, 64, 67, 0.15);\n",
              "    fill: var(--button-hover-fill-color);\n",
              "  }\n",
              "\n",
              "  .colab-df-quickchart-complete:disabled,\n",
              "  .colab-df-quickchart-complete:disabled:hover {\n",
              "    background-color: var(--disabled-bg-color);\n",
              "    fill: var(--disabled-fill-color);\n",
              "    box-shadow: none;\n",
              "  }\n",
              "\n",
              "  .colab-df-spinner {\n",
              "    border: 2px solid var(--fill-color);\n",
              "    border-color: transparent;\n",
              "    border-bottom-color: var(--fill-color);\n",
              "    animation:\n",
              "      spin 1s steps(1) infinite;\n",
              "  }\n",
              "\n",
              "  @keyframes spin {\n",
              "    0% {\n",
              "      border-color: transparent;\n",
              "      border-bottom-color: var(--fill-color);\n",
              "      border-left-color: var(--fill-color);\n",
              "    }\n",
              "    20% {\n",
              "      border-color: transparent;\n",
              "      border-left-color: var(--fill-color);\n",
              "      border-top-color: var(--fill-color);\n",
              "    }\n",
              "    30% {\n",
              "      border-color: transparent;\n",
              "      border-left-color: var(--fill-color);\n",
              "      border-top-color: var(--fill-color);\n",
              "      border-right-color: var(--fill-color);\n",
              "    }\n",
              "    40% {\n",
              "      border-color: transparent;\n",
              "      border-right-color: var(--fill-color);\n",
              "      border-top-color: var(--fill-color);\n",
              "    }\n",
              "    60% {\n",
              "      border-color: transparent;\n",
              "      border-right-color: var(--fill-color);\n",
              "    }\n",
              "    80% {\n",
              "      border-color: transparent;\n",
              "      border-right-color: var(--fill-color);\n",
              "      border-bottom-color: var(--fill-color);\n",
              "    }\n",
              "    90% {\n",
              "      border-color: transparent;\n",
              "      border-bottom-color: var(--fill-color);\n",
              "    }\n",
              "  }\n",
              "</style>\n",
              "\n",
              "  <script>\n",
              "    async function quickchart(key) {\n",
              "      const quickchartButtonEl =\n",
              "        document.querySelector('#' + key + ' button');\n",
              "      quickchartButtonEl.disabled = true;  // To prevent multiple clicks.\n",
              "      quickchartButtonEl.classList.add('colab-df-spinner');\n",
              "      try {\n",
              "        const charts = await google.colab.kernel.invokeFunction(\n",
              "            'suggestCharts', [key], {});\n",
              "      } catch (error) {\n",
              "        console.error('Error during call to suggestCharts:', error);\n",
              "      }\n",
              "      quickchartButtonEl.classList.remove('colab-df-spinner');\n",
              "      quickchartButtonEl.classList.add('colab-df-quickchart-complete');\n",
              "    }\n",
              "    (() => {\n",
              "      let quickchartButtonEl =\n",
              "        document.querySelector('#df-c15c4f69-c56d-4c29-9840-7fba22f9d412 button');\n",
              "      quickchartButtonEl.style.display =\n",
              "        google.colab.kernel.accessAllowed ? 'block' : 'none';\n",
              "    })();\n",
              "  </script>\n",
              "</div>\n",
              "\n",
              "    </div>\n",
              "  </div>\n"
            ],
            "application/vnd.google.colaboratory.intrinsic+json": {
              "type": "dataframe",
              "variable_name": "df_m5"
            }
          },
          "metadata": {},
          "execution_count": 14
        }
      ]
    },
    {
      "cell_type": "code",
      "source": [
        "df_m5.isna().sum() # 결측치 제거 완료"
      ],
      "metadata": {
        "colab": {
          "base_uri": "https://localhost:8080/"
        },
        "id": "L-Zc0p8hCOb0",
        "outputId": "0a39dadc-c27e-44fa-e21b-fa91aa196fec"
      },
      "execution_count": 15,
      "outputs": [
        {
          "output_type": "execute_result",
          "data": {
            "text/plain": [
              "UnitPrice     0\n",
              "TotalPrice    0\n",
              "dtype: int64"
            ]
          },
          "metadata": {},
          "execution_count": 15
        }
      ]
    },
    {
      "cell_type": "code",
      "source": [
        "# 단순 회귀분석\n",
        "import statsmodels.api as sm\n",
        "\n",
        "# 독립변수와 종속변수\n",
        "X = df_m5['UnitPrice']\n",
        "Y = df_m5['TotalPrice']\n",
        "\n",
        "# 회귀모델에 상수항 추가\n",
        "X = sm.add_constant(X) # 이 함수는 독립변수 데이터프레임(X)에 상수항을 추가하여 회귀분석을 수행할 때 필요한 상수항을 포함한 데이터프레임을 반환함\n",
        "\n",
        "# OLS 모델\n",
        "model = sm.OLS(Y, X).fit()\n",
        "\n",
        "# 회귀계수와 결정계수 출력\n",
        "print(model.summary())"
      ],
      "metadata": {
        "colab": {
          "base_uri": "https://localhost:8080/"
        },
        "id": "V3WJy3ntBwDz",
        "outputId": "25de806b-f22f-4d1c-b94d-9c89478837a7"
      },
      "execution_count": 16,
      "outputs": [
        {
          "output_type": "stream",
          "name": "stdout",
          "text": [
            "                            OLS Regression Results                            \n",
            "==============================================================================\n",
            "Dep. Variable:             TotalPrice   R-squared:                       0.026\n",
            "Model:                            OLS   Adj. R-squared:                  0.026\n",
            "Method:                 Least Squares   F-statistic:                 1.461e+04\n",
            "Date:                Tue, 16 Jul 2024   Prob (F-statistic):               0.00\n",
            "Time:                        06:55:33   Log-Likelihood:            -3.9791e+06\n",
            "No. Observations:              541909   AIC:                         7.958e+06\n",
            "Df Residuals:                  541907   BIC:                         7.958e+06\n",
            "Df Model:                           1                                         \n",
            "Covariance Type:            nonrobust                                         \n",
            "==============================================================================\n",
            "                 coef    std err          t      P>|t|      [0.025      0.975]\n",
            "------------------------------------------------------------------------------\n",
            "const         20.9128      0.508     41.137      0.000      19.916      21.909\n",
            "UnitPrice     -0.6343      0.005   -120.873      0.000      -0.645      -0.624\n",
            "===============================================================================\n",
            "Omnibus:                   537002.036   Durbin-Watson:                    2.733\n",
            "Prob(Omnibus):                  0.000   Jarque-Bera (JB):   572736095711894.750\n",
            "Skew:                           2.345   Prob(JB):                          0.00\n",
            "Kurtosis:                  159267.769   Cond. No.                          97.0\n",
            "===============================================================================\n",
            "\n",
            "Notes:\n",
            "[1] Standard Errors assume that the covariance matrix of the errors is correctly specified.\n"
          ]
        }
      ]
    },
    {
      "cell_type": "markdown",
      "source": [
        "## 결과 해석: 회귀계수와 결정계수를 분석하여 상품 가격과 총 판매액 사이의 관계를 해석\n",
        "회귀분석 결과를 종합하면, UnitPrice가 TotalPrice에 음의 방향으로 유의미한 영향을 미침\n",
        "\n",
        "즉, UnitPrice가 높을수록 TotalPrice는 감소하는 경향\n",
        "\n",
        "그러나 모델 진단 결과, 잔차의 정규성 가정을 만족하지 않고 잔차의 비대칭성과 첨도도 높은 값을 보이므로 추가적인 모델 개선이 필요"
      ],
      "metadata": {
        "id": "QTvyJBi-DCX-"
      }
    },
    {
      "cell_type": "markdown",
      "source": [
        "## 미션6) 여러 분은 크리스마스가 온라인 소매 판매에 미치는 영향을 평가하고, 이를 바탕으로 더 효과적인 가격 및 프로모션 전략을 개발해야 합니다.  \n",
        "\n",
        "* 다음과 같은 비즈니스 전략을 고려하여 인과 분석을 합니다. 증거의 사다리로 데이터에서 얻을 수 있는 증거의 강도를 평가합니다. 크리스마스 관련 상품과 비관련 상품 간의 판매 차이를 분석합니다.\n",
        "\n",
        "\n",
        "* 프로모션 전략\n",
        "    * 크리스마스 상품 프로모션 강화하여 크리스마스 관련 상품의 판매를 증진시키기 위한 특별 프로모션을 개발합니다.\n",
        "    * 대상 고객을 세분화하여 크리스마스 상품에 관심이 높은 고객 세그먼트를 식별하고, 이들을 대상으로 한 마케팅 캠페인을 실행합니다.\n",
        "* 재고 및 공급망 관리\n",
        "    * 재고 최적화를 통해 크리스마스 시즌에 대한 수요 예측을 바탕으로 재고 수준을 조절합니다.\n",
        "    * 공급망 효율화를 통해 시즌별 수요 변화에 따라 공급망을 조정하여 비용을 최소화하고, 고객 만족도를 높입니다.\n",
        "* 상품 다양화\n",
        "    * 상품 포트폴리오를 확장하여 크리스마스 관련 상품뿐만 아니라, 다른 시즌 상품에도 주목하여 상품 포트폴리오를 다양화합니다\n",
        "\n",
        "* 크리스마스 시즌 동안 프로모션과 상품 가격 전략이 판매에 미치는 영향을 분석하여, 미래의 프로모션 및 가격 전략을 최적화해야 합니다.\n",
        "\n",
        "\n",
        "\n",
        "* 다음 주어진 코드를 활용합니다.\n",
        "\n",
        "\n",
        "```python\n",
        "# 2011년 이전 데이터만 사용합니다.\n",
        "# 프로모션 여부와 시간에 따른 데이터 분리\n",
        "df_promotion = df[(df[\"InvoiceDate\"] < \"2011-01-01\") & df[\"Description\"].notnull()].dropna().copy()\n",
        "df_promotion[\"IsChristmasPeriod\"] = (df_promotion[\"InvoiceDate\"] >= \"2010-12-17\") & (df_promotion[\"InvoiceDate\"] <= \"2010-12-24\")\n",
        "df_promotion[\"IsChristmasProduct\"] = df_promotion[\"Description\"].str.lower().str.contains(\"christmas\")\n",
        "```"
      ],
      "metadata": {
        "id": "nAaWNLnIJC_N"
      }
    },
    {
      "cell_type": "code",
      "source": [
        "# 데이터 전처리\n",
        "# 2011년 이전 데이터만 사용합니다.\n",
        "df_promotion = df[(df[\"InvoiceDate\"] < \"2011-01-01\") & df[\"Description\"].notnull()].dropna().copy()\n",
        "\n",
        "# 크리스마스 기간 여부를 나타내는 컬럼 생성\n",
        "df_promotion[\"IsChristmasPeriod\"] = (df_promotion[\"InvoiceDate\"] >= \"2010-12-17\") & (df_promotion[\"InvoiceDate\"] <= \"2010-12-24\")\n",
        "\n",
        "# 상품 설명에서 크리스마스 관련 단어를 포함하는지 여부를 나타내는 컬럼 생성\n",
        "df_promotion[\"IsChristmasProduct\"] = df_promotion[\"Description\"].str.lower().str.contains(\"christmas\")"
      ],
      "metadata": {
        "id": "yckhUGZ4JDuM"
      },
      "execution_count": 17,
      "outputs": []
    },
    {
      "cell_type": "code",
      "source": [
        "# 크리스마스 관련 상품과 비관련 상품의 판매량 비교\n",
        "christmas_sales = df_promotion[df_promotion[\"IsChristmasProduct\"]][\"TotalPrice\"].sum()\n",
        "non_christmas_sales = df_promotion[~df_promotion[\"IsChristmasProduct\"]][\"TotalPrice\"].sum()\n",
        "\n",
        "print(f\"크리스마스 관련 상품 총 판매금액: {christmas_sales}\")\n",
        "print(f\"비관련 상품 총 판매금액: {non_christmas_sales}\")\n",
        "\n",
        "# 크리스마스 기간 동안 판매된 상품 수\n",
        "christmas_count = df_promotion[df_promotion[\"IsChristmasPeriod\"]][\"InvoiceNo\"].nunique()\n",
        "total_count = df_promotion[\"InvoiceNo\"].nunique()\n",
        "\n",
        "print(f\"크리스마스 기간 동안 판매된 상품 수: {christmas_count}\")\n",
        "print(f\"전체 기간 동안 판매된 상품 수: {total_count}\")\n",
        "\n",
        "# 크리스마스 관련 상품과 비관련 상품의 판매 증가율 계산\n",
        "sales_increase_rate = (christmas_sales - non_christmas_sales) / non_christmas_sales * 100\n",
        "print(f\"크리스마스 관련 상품의 판매 증가율: {sales_increase_rate:.2f}%\")"
      ],
      "metadata": {
        "colab": {
          "base_uri": "https://localhost:8080/"
        },
        "id": "3KuH_lwvE7Pv",
        "outputId": "e214f648-6013-4741-b06e-82282568ca47"
      },
      "execution_count": 18,
      "outputs": [
        {
          "output_type": "stream",
          "name": "stdout",
          "text": [
            "크리스마스 관련 상품 총 판매금액: 22165.59\n",
            "비관련 상품 총 판매금액: 532438.4299999999\n",
            "크리스마스 기간 동안 판매된 상품 수: 238\n",
            "전체 기간 동안 판매된 상품 수: 1708\n",
            "크리스마스 관련 상품의 판매 증가율: -95.84%\n"
          ]
        }
      ]
    },
    {
      "cell_type": "markdown",
      "source": [
        "- 결과를 보면 크리스마스 관련 상품의 판매가 오히려 감소했음을 볼 수 있음, 크리스마스 관련 상품들이 비교적 낮은 판매를 기록\n",
        "\n",
        "- 크리스마스 관련 상품 프로모션\n",
        "  - 크리스마스 관련 상품의 판매량 증가를위해서 예를 들어 할인율을 더 높게 조정하거나 추가 혜택을 제공하여 프로모션을 진행할 수 있음\n",
        "\n",
        "- 크리스마스 상품에 관심이 있는 고객층을 고객 세그먼트를 분석해서 특정 고객층을 타겟팅하여 마케팅 전략을 세우면 더 도움이 될 듯함\n",
        "- 해당 시즌을 대비해서 재고를 준비하고 수요 예측을 통해서 재고를 알맞게 조정해야 함, 재고 부족 또는 재고 과다를 방지하여 고객 만족도를 높이고 자사의 손실을 방지하여야 함"
      ],
      "metadata": {
        "id": "An_9KaB5FsJX"
      }
    },
    {
      "cell_type": "markdown",
      "source": [
        "## 미션7) 다변량 회귀분석을 수행하여 크리스마스 기간 전후와 크리스마스 관련 상품과 비관련 상품 간의 판매량(Quantity) 차이를 'UnitPrice'와 'Country'와 함께 분석합니다.\n",
        "\n",
        "* 판매량(Quantity)을 종속변수로 하여, 크리스마스 관련 상품 여부(IsChristmasProduct), 단가(UnitPrice), 국가(Country) 등을 독립변수로 포함하는 다변량 선형 회귀모델을 구축합니다.\n",
        "* statsmodels 라이브러리(statsmodels.formula.api 의 ols)를 사용하여 모델을 구축하고, 결과를 해석합니다.\n",
        "* 분석 결과를 해석하고, 이를 바탕으로 크리스마스 시즌 판매 전략에 대한 권장 사항을 제시합니다.\n",
        "* 분석 과정과 결과, 그리고 비즈니스 전략에 대한 권장 사항을 포함하는 보고서를 작성합니다.\n",
        "* 다음 주어진 코드를 활용합니다.\n",
        "\n",
        "```python\n",
        "from statsmodels.formula.api import ols\n",
        "\n",
        "# ols.summary()를 이용해 볼 수 있습니다.\n",
        "```"
      ],
      "metadata": {
        "id": "bH8W-kUIJD_6"
      }
    },
    {
      "cell_type": "code",
      "source": [
        "from statsmodels.formula.api import ols\n",
        "\n",
        "df['IsChristmasProduct'] = df['Description'].str.lower().str.contains('christmas')\n",
        "\n",
        "# 모델 구축을 위해 데이터 선택\n",
        "df_model = df[['Quantity', 'IsChristmasProduct', 'UnitPrice', 'Country']]\n",
        "\n",
        "# 다변량 선형 회귀모델 구축\n",
        "model = ols('Quantity ~ IsChristmasProduct + UnitPrice + Country', data = df_model).fit()\n",
        "print(model.summary())"
      ],
      "metadata": {
        "id": "7XBHfDh6JEjT",
        "colab": {
          "base_uri": "https://localhost:8080/"
        },
        "outputId": "6c1cdc73-59a3-4f37-be8a-58b7ec8d6bb1"
      },
      "execution_count": 19,
      "outputs": [
        {
          "output_type": "stream",
          "name": "stdout",
          "text": [
            "                            OLS Regression Results                            \n",
            "==============================================================================\n",
            "Dep. Variable:               Quantity   R-squared:                       0.001\n",
            "Model:                            OLS   Adj. R-squared:                  0.001\n",
            "Method:                 Least Squares   F-statistic:                     12.14\n",
            "Date:                Tue, 16 Jul 2024   Prob (F-statistic):           5.53e-76\n",
            "Time:                        06:55:51   Log-Likelihood:            -3.6767e+06\n",
            "No. Observations:              540455   AIC:                         7.354e+06\n",
            "Df Residuals:                  540415   BIC:                         7.354e+06\n",
            "Df Model:                          39                                         \n",
            "Covariance Type:            nonrobust                                         \n",
            "===================================================================================================\n",
            "                                      coef    std err          t      P>|t|      [0.025      0.975]\n",
            "---------------------------------------------------------------------------------------------------\n",
            "Intercept                          66.3482      6.142     10.803      0.000      54.310      78.386\n",
            "IsChristmasProduct[T.True]          3.2149      1.408      2.283      0.022       0.455       5.975\n",
            "Country[T.Austria]                -54.5155     12.496     -4.363      0.000     -79.007     -30.024\n",
            "Country[T.Bahrain]                -52.6514     50.370     -1.045      0.296    -151.375      46.072\n",
            "Country[T.Belgium]                -55.2103      7.789     -7.088      0.000     -70.477     -39.944\n",
            "Country[T.Brazil]                 -55.2109     39.010     -1.415      0.157    -131.669      21.247\n",
            "Country[T.Canada]                 -48.0548     18.767     -2.561      0.010     -84.838     -11.271\n",
            "Country[T.Channel Islands]        -53.9820     10.019     -5.388      0.000     -73.618     -34.346\n",
            "Country[T.Cyprus]                 -56.2317     10.680     -5.265      0.000     -77.165     -35.299\n",
            "Country[T.Czech Republic]         -46.9282     40.258     -1.166      0.244    -125.832      31.976\n",
            "Country[T.Denmark]                -45.3400     12.641     -3.587      0.000     -70.116     -20.564\n",
            "Country[T.EIRE]                   -49.0973      6.597     -7.443      0.000     -62.026     -36.168\n",
            "Country[T.European Community]     -58.3981     28.570     -2.044      0.041    -114.394      -2.402\n",
            "Country[T.Finland]                -51.0650     10.298     -4.959      0.000     -71.249     -30.881\n",
            "Country[T.France]                 -53.5081      6.578     -8.134      0.000     -66.401     -40.616\n",
            "Country[T.Germany]                -54.0626      6.536     -8.271      0.000     -66.873     -41.252\n",
            "Country[T.Greece]                 -55.7212     19.052     -2.925      0.003     -93.063     -18.379\n",
            "Country[T.Hong Kong]              -49.6714     14.235     -3.489      0.000     -77.571     -21.772\n",
            "Country[T.Iceland]                -52.8707     17.281     -3.059      0.002     -86.742     -19.000\n",
            "Country[T.Israel]                 -51.6816     14.058     -3.676      0.000     -79.234     -24.129\n",
            "Country[T.Italy]                  -56.4535      9.842     -5.736      0.000     -75.743     -37.164\n",
            "Country[T.Japan]                    4.0904     13.053      0.313      0.754     -21.492      29.673\n",
            "Country[T.Lebanon]                -57.7555     33.061     -1.747      0.081    -122.554       7.043\n",
            "Country[T.Lithuania]              -47.8955     37.344     -1.283      0.200    -121.088      25.297\n",
            "Country[T.Malta]                  -59.1285     20.289     -2.914      0.004     -98.895     -19.362\n",
            "Country[T.Netherlands]             18.0063      7.599      2.369      0.018       3.112      32.901\n",
            "Country[T.Norway]                 -48.6443      9.025     -5.390      0.000     -66.333     -30.956\n",
            "Country[T.Poland]                 -55.6618     13.304     -4.184      0.000     -81.736     -29.587\n",
            "Country[T.Portugal]               -55.8357      8.306     -6.723      0.000     -72.115     -39.557\n",
            "Country[T.RSA]                    -60.2674     29.266     -2.059      0.039    -117.628      -2.907\n",
            "Country[T.Saudi Arabia]           -58.8416     69.186     -0.850      0.395    -194.443      76.760\n",
            "Country[T.Singapore]              -43.4831     15.659     -2.777      0.005     -74.175     -12.792\n",
            "Country[T.Spain]                  -55.8969      7.515     -7.438      0.000     -70.625     -41.169\n",
            "Country[T.Sweden]                  10.6668     11.854      0.900      0.368     -12.566      33.900\n",
            "Country[T.Switzerland]            -51.2573      7.838     -6.539      0.000     -66.620     -35.894\n",
            "Country[T.USA]                    -63.0650     14.175     -4.449      0.000     -90.847     -35.283\n",
            "Country[T.United Arab Emirates]   -51.9450     27.131     -1.915      0.056    -105.121       1.231\n",
            "Country[T.United Kingdom]         -57.8309      6.149     -9.404      0.000     -69.884     -45.778\n",
            "Country[T.Unspecified]            -59.0065     12.008     -4.914      0.000     -82.542     -35.471\n",
            "UnitPrice                          -0.0028      0.003     -0.906      0.365      -0.009       0.003\n",
            "===============================================================================\n",
            "Omnibus:                   350779.490   Durbin-Watson:                    2.472\n",
            "Prob(Omnibus):                  0.000   Jarque-Bera (JB):   326775385512215.188\n",
            "Skew:                          -0.269   Prob(JB):                          0.00\n",
            "Kurtosis:                  120465.125   Cond. No.                      2.27e+04\n",
            "===============================================================================\n",
            "\n",
            "Notes:\n",
            "[1] Standard Errors assume that the covariance matrix of the errors is correctly specified.\n",
            "[2] The condition number is large, 2.27e+04. This might indicate that there are\n",
            "strong multicollinearity or other numerical problems.\n"
          ]
        }
      ]
    },
    {
      "cell_type": "markdown",
      "source": [
        "## 분석 결과 해석\n",
        "- 크리스마스 관련 상품이 판매량에 긍정적인 영향 미침\n",
        "- IsChristmasProduct[T.True]의 계수가 3.2149로 나타났고 규의수준에서 크리스마스 관련 상품이 판매량을 평균적으로 약 3.2149만큼 증가시킴을 의미\n",
        "---\n",
        "- 다양한 국가들에 따라 판매량 차이가 있음, United Kingdom에서의 판매량은 기준 국가로 설정한 경우 평균적으로 -57.8309만큼 낮음을 의미\n",
        "---\n",
        "- 상품의 단가가 판매량에 유의미한 영향을 미치진 않음\n",
        "- 상품의 가격을 높이거나 낮추는 것은 판매량에 크게 변화를 미치지 않을 수 있다는 것\n",
        "---\n",
        "- 크리스마스 시즌에 크리스마스 관련 상품에 대한 프로모션을 강화함이 중요, 가격이 판매량에 유의미한 영향을 미치진 않으므로 크리스마스 관련 상품에 대한 인지도를 높이는 것이 중요하므로 다른 유명 캐릭터와 협업을 하여 크리스마스 관련 상품을 개발하거나 상품 자체에 고객들이 눈여겨볼만한 요소를 넣어 구성하는 것이 중요한 것으로 보임\n",
        "- 국가별로 판매량 차이가 있기에 위의 결과를 반영하여 상품에 각 국가별 특성 또는 문화를 고려한 맞춤형 마케팅 전략이 필요함\n"
      ],
      "metadata": {
        "id": "ZpXtN6FIJD_G"
      }
    },
    {
      "cell_type": "markdown",
      "source": [
        "### 여기서 든 의문점..\n",
        "위에 문제에서 결과가 크리스마스 관련 상품 판매량이 줄었는데 근데 크리스마스 관련 상품이 판매량에 긍정적인 영향을 미친다는 말이 이게 맞나..?싶은 의문점이 들었다. 그래서 찾아보고 다시 결과를 보다가\n",
        "다변량 회귀분석에서 크리스마스 관련 상품이 판매량에 긍정적인 영향을 미친다 나와있고 계수가 3.2149이고 유의수준 0.05에서 통계적으로 유의미하다는 결과를 얻는 p-value값이 0.022, 판매 상품 수로 보면 낮은 수치이다. 다변량 회귀분석에서 나온 결과는 크리스마스 관련 상품이 전반적으로 판매량을 증가시킨다는 평균적인 경향을 나타내지만 실제 크리스마스 기간 동안 판매되는 상품의 수가 적었다. 이는 이 분기 동안 특정 고객군이 다른 유형의 상품을 선호할 수 있다는 것을 의미할 수 있다."
      ],
      "metadata": {
        "id": "sXqBX-8df9An"
      }
    },
    {
      "cell_type": "markdown",
      "source": [
        "## 미션8) 온라인 소매 데이터를 사용하여 고객이 특정 상품을 구매할지 여부를 예측합니다.\n",
        "이 예측 모델을 사용하여 타겟 마케팅 전략을 수립하고, 재고 관리를 최적화합니다. 고객의 특정 상품 구매 여부(구매/미구매)를 예측하는 이진 분류 모델을 구축합니다.\n",
        "\n",
        "\n",
        "1) 타겟 변수 생성: 'WHITE HANGING HEART T-LIGHT HOLDER' 상품을 구매했는지 여부를 나타내는 이진 타겟 변수(0: 미구매, 1: 구매)를 생성합니다.\\\n",
        "2) 특성(feature) 선택: 구매 예측에 영향을 미칠 수 있는 변수들을 선택합니다. 예를 들어, 'UnitPrice', 'Quantity', 'CustomerID', 'Country' 등이 될 수 있습니다.\\\n",
        "3) 범주형 변수 처리: 'Country'와 같은 범주형 변수를 숫자로 변환합니다. 원-핫 인코딩 등을 사용할 수 있습니다.\\\n",
        "4) 데이터 분할: 모델 학습을 위해 데이터를 훈련 세트와 테스트 세트로 분할합니다.\\\n",
        "5) 로지스틱 회귀 모델 생성 및 학습합니다.\\\n",
        "6) 모델을 평가 합니다."
      ],
      "metadata": {
        "id": "Vzq22y-6JMtN"
      }
    },
    {
      "cell_type": "code",
      "source": [
        "from sklearn.model_selection import train_test_split\n",
        "from sklearn.linear_model import LogisticRegression\n",
        "from sklearn.metrics import accuracy_score, precision_score, recall_score, f1_score, confusion_matrix\n",
        "\n",
        "# 타겟 변수 생성\n",
        "df['IsPurchased'] = df['Description'].apply(lambda x:1 if x == 'WHITE HANGING HEART T-LIGHT HOLDER' else 0)\n",
        "\n",
        "# 필요한 변수 선택\n",
        "features = ['UnitPrice', 'Quantity', 'CustomerID', 'Country']\n",
        "df_selected = df[features + ['IsPurchased']]\n",
        "\n",
        "# 범주형 변수 처리\n",
        "# 결측지 제거\n",
        "df_selected.dropna(inplace = True)\n",
        "\n",
        "# 원핫인코딩\n",
        "df_encoded = pd.get_dummies(df_selected, columns=['Country'])\n",
        "\n",
        "# 데이터 분할\n",
        "# 특성과 타겟 변수 분리\n",
        "X = df_encoded.drop('IsPurchased', axis = 1)\n",
        "y = df_encoded['IsPurchased']\n",
        "\n",
        "# 훈련 세트와 테스트 세트로 분할\n",
        "X_train, X_test, y_train, y_test = train_test_split(X, y, test_size = 0.2, random_state = 42)\n",
        "\n",
        "# 로지스틱 회귀 모델 생성 및 학습\n",
        "model = LogisticRegression(max_iter = 10000)\n",
        "model.fit(X_train, y_train)\n",
        "\n",
        "# 모델 예측\n",
        "y_pred = model.predict(X_test)\n",
        "\n",
        "# 평가 지표\n",
        "accuracy = accuracy_score(y_test, y_pred)\n",
        "precision = precision_score(y_test, y_pred)\n",
        "recall = recall_score(y_test, y_pred)\n",
        "f1 = f1_score(y_test, y_pred)\n",
        "\n",
        "# 결과 출력\n",
        "print(f'Accuracy: {accuracy}')\n",
        "print(f'Precision: {precision}')\n",
        "print(f'Recall: {recall}')\n",
        "print(f'F1 Score: {f1}')\n",
        "# 결과가...엥..."
      ],
      "metadata": {
        "id": "xGQS9JhXJM_B",
        "colab": {
          "base_uri": "https://localhost:8080/"
        },
        "outputId": "b02083bd-ba69-4921-ea50-614c9205ee28"
      },
      "execution_count": 20,
      "outputs": [
        {
          "output_type": "stream",
          "name": "stderr",
          "text": [
            "<ipython-input-20-45876ae94ddb>:14: SettingWithCopyWarning: \n",
            "A value is trying to be set on a copy of a slice from a DataFrame\n",
            "\n",
            "See the caveats in the documentation: https://pandas.pydata.org/pandas-docs/stable/user_guide/indexing.html#returning-a-view-versus-a-copy\n",
            "  df_selected.dropna(inplace = True)\n",
            "/usr/local/lib/python3.10/dist-packages/sklearn/metrics/_classification.py:1344: UndefinedMetricWarning: Precision is ill-defined and being set to 0.0 due to no predicted samples. Use `zero_division` parameter to control this behavior.\n",
            "  _warn_prf(average, modifier, msg_start, len(result))\n"
          ]
        },
        {
          "output_type": "stream",
          "name": "stdout",
          "text": [
            "Accuracy: 0.9947152373227146\n",
            "Precision: 0.0\n",
            "Recall: 0.0\n",
            "F1 Score: 0.0\n"
          ]
        }
      ]
    },
    {
      "cell_type": "code",
      "source": [
        "import pandas as pd\n",
        "from sklearn.model_selection import train_test_split\n",
        "from sklearn.linear_model import LogisticRegression\n",
        "from sklearn.metrics import accuracy_score, precision_score, recall_score, f1_score,roc_auc_score, precision_recall_curve, auc\n",
        "from imblearn.over_sampling import SMOTE\n",
        "\n",
        "# 타겟 변수 생성\n",
        "df['IsPurchased'] = df['Description'].apply(lambda x: 1 if x == 'WHITE HANGING HEART T-LIGHT HOLDER' else 0)\n",
        "\n",
        "# 필요한 변수 선택\n",
        "features = ['UnitPrice', 'Quantity', 'CustomerID', 'Country']\n",
        "df_selected = df[features + ['IsPurchased']]\n",
        "\n",
        "# 결측치 제거\n",
        "df_selected = df_selected.dropna()\n",
        "\n",
        "# 원핫 인코딩\n",
        "df_encoded = pd.get_dummies(df_selected, columns=['Country'])\n",
        "\n",
        "# 데이터 분할\n",
        "# 특성과 타겟 변수 분리\n",
        "X = df_encoded.drop('IsPurchased', axis=1)\n",
        "y = df_encoded['IsPurchased']\n",
        "\n",
        "# 훈련 세트와 테스트 세트로 분할\n",
        "X_train, X_test, y_train, y_test = train_test_split(X, y, test_size=0.2, random_state=42)\n",
        "\n",
        "# SMOTE를 사용한 오버샘플링\n",
        "smote = SMOTE(random_state=42)\n",
        "X_train_res, y_train_res = smote.fit_resample(X_train, y_train)\n",
        "\n",
        "# 로지스틱 회귀 모델 생성 및 학습\n",
        "model = LogisticRegression(max_iter=10000)\n",
        "model.fit(X_train_res, y_train_res)\n",
        "\n",
        "# 모델 예측\n",
        "y_pred = model.predict(X_test)\n",
        "\n",
        "# 평가 지표\n",
        "accuracy = accuracy_score(y_test, y_pred)\n",
        "precision = precision_score(y_test, y_pred, zero_division=1)\n",
        "recall = recall_score(y_test, y_pred)\n",
        "f1 = f1_score(y_test, y_pred)\n",
        "\n",
        "# 결과 출력\n",
        "print(f'Accuracy: {accuracy}')\n",
        "print(f'Precision: {precision}')\n",
        "print(f'Recall: {recall}')\n",
        "print(f'F1 Score: {f1}')"
      ],
      "metadata": {
        "colab": {
          "base_uri": "https://localhost:8080/"
        },
        "id": "vUCqQKlVPHrR",
        "outputId": "3442e176-fd10-4ef0-f3ec-91a5651e96e1"
      },
      "execution_count": 24,
      "outputs": [
        {
          "output_type": "stream",
          "name": "stdout",
          "text": [
            "Accuracy: 0.22693754147924194\n",
            "Precision: 0.006774147704842963\n",
            "Recall: 0.9976744186046511\n",
            "F1 Score: 0.013456923728414814\n"
          ]
        }
      ]
    },
    {
      "cell_type": "code",
      "source": [
        "from sklearn.ensemble import RandomForestClassifier\n",
        "from sklearn.metrics import roc_auc_score, precision_recall_curve, auc\n",
        "\n",
        "# 랜덤 포레스트 모델 생성 및 학습\n",
        "rf_model = RandomForestClassifier(random_state=42)\n",
        "rf_model.fit(X_train_res, y_train_res)\n",
        "\n",
        "# 모델 예측\n",
        "y_pred_rf = rf_model.predict(X_test)\n",
        "y_prob_rf = rf_model.predict_proba(X_test)[:, 1]\n",
        "\n",
        "# 평가 지표\n",
        "accuracy_rf = accuracy_score(y_test, y_pred_rf)\n",
        "precision_rf = precision_score(y_test, y_pred_rf)\n",
        "recall_rf = recall_score(y_test, y_pred_rf)\n",
        "f1_rf = f1_score(y_test, y_pred_rf)\n",
        "roc_auc_rf = roc_auc_score(y_test, y_prob_rf)\n",
        "precision_rf_curve, recall_rf_curve, _ = precision_recall_curve(y_test, y_prob_rf)\n",
        "pr_auc_rf = auc(recall_rf_curve, precision_rf_curve)\n",
        "\n",
        "# 결과 출력\n",
        "print(f'Random Forest - Accuracy: {accuracy_rf}')\n",
        "print(f'Random Forest - Precision: {precision_rf}')\n",
        "print(f'Random Forest - Recall: {recall_rf}')\n",
        "print(f'Random Forest - F1 Score: {f1_rf}')\n",
        "print(f'Random Forest - ROC-AUC: {roc_auc_rf}')\n",
        "print(f'Random Forest - PR-AUC: {pr_auc_rf}')"
      ],
      "metadata": {
        "colab": {
          "base_uri": "https://localhost:8080/"
        },
        "id": "phg5UJWYP1rS",
        "outputId": "88801437-bddb-4674-f312-ade577a50ccb"
      },
      "execution_count": 25,
      "outputs": [
        {
          "output_type": "stream",
          "name": "stdout",
          "text": [
            "Random Forest - Accuracy: 0.9804955386770887\n",
            "Random Forest - Precision: 0.1409062693978895\n",
            "Random Forest - Recall: 0.5279069767441861\n",
            "Random Forest - F1 Score: 0.2224399804017638\n",
            "Random Forest - ROC-AUC: 0.8929747247897276\n",
            "Random Forest - PR-AUC: 0.2265965852106626\n"
          ]
        }
      ]
    },
    {
      "cell_type": "code",
      "source": [
        "from xgboost import XGBClassifier\n",
        "\n",
        "# XGBoost 모델 생성 및 학습\n",
        "xgb_model = XGBClassifier(use_label_encoder=False, eval_metric='logloss', random_state=42)\n",
        "xgb_model.fit(X_train_res, y_train_res)\n",
        "\n",
        "# 모델 예측\n",
        "y_pred_xgb = xgb_model.predict(X_test)\n",
        "y_prob_xgb = xgb_model.predict_proba(X_test)[:, 1]\n",
        "\n",
        "# 평가 지표\n",
        "accuracy_xgb = accuracy_score(y_test, y_pred_xgb)\n",
        "precision_xgb = precision_score(y_test, y_pred_xgb)\n",
        "recall_xgb = recall_score(y_test, y_pred_xgb)\n",
        "f1_xgb = f1_score(y_test, y_pred_xgb)\n",
        "roc_auc_xgb = roc_auc_score(y_test, y_prob_xgb)\n",
        "precision_xgb_curve, recall_xgb_curve, _ = precision_recall_curve(y_test, y_prob_xgb)\n",
        "pr_auc_xgb = auc(recall_xgb_curve, precision_xgb_curve)\n",
        "\n",
        "# 결과 출력\n",
        "print(f'XGBoost - Accuracy: {accuracy_xgb}')\n",
        "print(f'XGBoost - Precision: {precision_xgb}')\n",
        "print(f'XGBoost - Recall: {recall_xgb}')\n",
        "print(f'XGBoost - F1 Score: {f1_xgb}')\n",
        "print(f'XGBoost - ROC-AUC: {roc_auc_xgb}')\n",
        "print(f'XGBoost - PR-AUC: {pr_auc_xgb}')"
      ],
      "metadata": {
        "colab": {
          "base_uri": "https://localhost:8080/"
        },
        "id": "lDHvtXA4Qvz2",
        "outputId": "d33d0ed0-ed8b-4512-e529-1c3d5669f947"
      },
      "execution_count": 26,
      "outputs": [
        {
          "output_type": "stream",
          "name": "stdout",
          "text": [
            "XGBoost - Accuracy: 0.9458496177764668\n",
            "XGBoost - Precision: 0.0828787242971045\n",
            "XGBoost - Recall: 0.9186046511627907\n",
            "XGBoost - F1 Score: 0.15204003079291764\n",
            "XGBoost - ROC-AUC: 0.9786155613048266\n",
            "XGBoost - PR-AUC: 0.2155540316793899\n"
          ]
        }
      ]
    },
    {
      "cell_type": "code",
      "source": [
        "# from sklearn.model_selection import GridSearchCV\n",
        "\n",
        "# # 랜덤 포레스트 하이퍼파라미터 설정\n",
        "# param_grid_rf = {\n",
        "#     'n_estimators': [100, 200],\n",
        "#     'max_depth': [10, 20, None],\n",
        "#     'min_samples_split': [2, 5],\n",
        "#     'min_samples_leaf': [1, 2]\n",
        "# }\n",
        "\n",
        "# # 그리드 서치 수행\n",
        "# grid_search_rf = GridSearchCV(rf_model, param_grid_rf, cv=3, scoring='f1', n_jobs=-1)\n",
        "# grid_search_rf.fit(X_train_res, y_train_res)\n",
        "\n",
        "# # 최적 하이퍼파라미터 출력\n",
        "# print(f'Best parameters for Random Forest: {grid_search_rf.best_params_}')\n",
        "\n",
        "# # 최적 모델로 재학습\n",
        "# best_rf_model = grid_search_rf.best_estimator_\n",
        "# best_rf_model.fit(X_train_res, y_train_res)"
      ],
      "metadata": {
        "id": "N1heme_KRX7F"
      },
      "execution_count": null,
      "outputs": []
    },
    {
      "cell_type": "code",
      "source": [
        "# # XGBoost 하이퍼파라미터 설정\n",
        "# param_grid_xgb = {\n",
        "#     'n_estimators': [100, 200],\n",
        "#     'max_depth': [3, 6, 10],\n",
        "#     'learning_rate': [0.01, 0.1, 0.2],\n",
        "#     'subsample': [0.8, 1.0],\n",
        "#     'colsample_bytree': [0.8, 1.0]\n",
        "# }\n",
        "\n",
        "# # 그리드 서치 수행\n",
        "# grid_search_xgb = GridSearchCV(xgb_model, param_grid_xgb, cv=3, scoring='f1', n_jobs=-1)\n",
        "# grid_search_xgb.fit(X_train_res, y_train_res)\n",
        "\n",
        "# # 최적 하이퍼파라미터 출력\n",
        "# print(f'Best parameters for XGBoost: {grid_search_xgb.best_params_}')\n",
        "\n",
        "# # 최적 모델로 재학습\n",
        "# best_xgb_model = grid_search_xgb.best_estimator_\n",
        "# best_xgb_model.fit(X_train_res, y_train_res)"
      ],
      "metadata": {
        "id": "P3rf5L7kRkm8"
      },
      "execution_count": null,
      "outputs": []
    },
    {
      "cell_type": "code",
      "source": [
        "# # 최적 랜덤 포레스트 모델 평가\n",
        "# y_pred_best_rf = best_rf_model.predict(X_test)\n",
        "# y_prob_best_rf = best_rf_model.predict_proba(X_test)[:, 1]\n",
        "\n",
        "# accuracy_best_rf = accuracy_score(y_test, y_pred_best_rf)\n",
        "# precision_best_rf = precision_score(y_test, y_pred_best_rf)\n",
        "# recall_best_rf = recall_score(y_test, y_pred_best_rf)\n",
        "# f1_best_rf = f1_score(y_test, y_pred_best_rf)\n",
        "# roc_auc_best_rf = roc_auc_score(y_test, y_prob_best_rf)\n",
        "# precision_best_rf_curve, recall_best_rf_curve, _ = precision_recall_curve(y_test, y_prob_best_rf)\n",
        "# pr_auc_best_rf = auc(recall_best_rf_curve, precision_best_rf_curve)\n",
        "\n",
        "# print(f'Optimized Random Forest - Accuracy: {accuracy_best_rf}')\n",
        "# print(f'Optimized Random Forest - Precision: {precision_best_rf}')\n",
        "# print(f'Optimized Random Forest - Recall: {recall_best_rf}')\n",
        "# print(f'Optimized Random Forest - F1 Score: {f1_best_rf}')\n",
        "# print(f'Optimized Random Forest - ROC-AUC: {roc_auc_best_rf}')\n",
        "# print(f'Optimized Random Forest - PR-AUC: {pr_auc_best_rf}')\n",
        "\n",
        "# # 최적 XGBoost 모델 평가\n",
        "# y_pred_best_xgb = best_xgb_model.predict(X_test)\n",
        "# y_prob_best_xgb = best_xgb_model.predict_proba(X_test)[:, 1]\n",
        "\n",
        "# accuracy_best_xgb = accuracy_score(y_test, y_pred_best_xgb)\n",
        "# precision_best_xgb = precision_score(y_test, y_pred_best_xgb)\n",
        "# recall_best_xgb = recall_score(y_test, y_pred_best_xgb)\n",
        "# f1_best_xgb = f1_score(y_test, y_pred_best_xgb)\n",
        "# roc_auc_best_xgb = roc_auc_score(y_test, y_prob_best_xgb)\n",
        "# precision_best_xgb_curve, recall_best_xgb_curve, _ = precision_recall_curve(y_test, y_prob_best_xgb)\n",
        "# pr_auc_best_xgb = auc(recall_best_xgb_curve, precision_best_xgb_curve)\n",
        "\n",
        "# print(f'Optimized XGBoost - Accuracy: {accuracy_best_xgb}')\n",
        "# print(f'Optimized XGBoost - Precision: {precision_best_xgb}')\n",
        "# print(f'Optimized XGBoost - Recall: {recall_best_xgb}')\n",
        "# print(f'Optimized XGBoost - F1 Score: {f1_best_xgb}')\n",
        "# print(f'Optimized XGBoost - ROC-AUC: {roc_auc_best_xgb}')\n",
        "# print(f'Optimized XGBoost - PR-AUC: {pr_auc_best_xgb}')"
      ],
      "metadata": {
        "id": "UVGHLbTRR61a"
      },
      "execution_count": null,
      "outputs": []
    },
    {
      "cell_type": "markdown",
      "source": [
        "## 결과\n",
        "- 처음 코드를 돌렸을 때 데이터 불균형이 심해서 오버샘플링 SMOTE를 써서 다시 코드를 돌렸다.\n",
        "- Accuracy: 0.22693754147924194 / Precision: 0.006774147704842963 / Recall: 0.9976744186046511 / F1 Score: 0.013456923728414814 이런 결과가 나왔고 조금더 성능을 향상시킬까 해서 다른 분류 알고리즘을 써서 성능 비교, 하이퍼파라미터 튜닝을 해보려 했다\n",
        "- 랜덤 포레스트랑 XGBoost를 써봤는데 랜덤 포레스트가 시간이 오래 걸리긴 했지만 그래도 결과가 나왔고 XGBoost는 더 빠르게 결과가 나왔다. 그런데 하이퍼파라미터는 너무너무 시간이 오래걸려서 결국 돌리지 않았음\n",
        "- 데이터셋의 불균형을 고려해서 성능 지표에서도 ROC-AUC와 같은 지표 사용\n",
        "- 해서 ROC-AUC가 가장 높게 나온 XGBoost, 0.9786155613048266로 모델의 분류 성능이 높은 값을 보임\n",
        "- 결론은 이 분석을 통해서 WHITE HAVGING HEART-T-LIGHT HOLDER 상품 구매 여부를 예측하는 모델을 구축했고,  타겟 마케팅 전략과 재고 관리 권장\n"
      ],
      "metadata": {
        "id": "Vqy2zwtATSh3"
      }
    },
    {
      "cell_type": "markdown",
      "source": [
        "## 회고\n",
        "분석을 하고 그걸 토대로 비즈니스적 전략을 생각하는게 조금 낯설긴 했지만 내 생각과 판단으로 나온 것을 적어내려가는 과정이 재미있었던 것 같다. 분석 결과를 글로 쓰는과정에서 쓰다보니 너무 장황하게 쓰거나 너무 함축해서 써져서..이것저것 손보느라 조금 시간이 걸렸다,,고친다고 고쳐봤지만 잘 고쳐졌는진 잘 모르겠다ㅜ그리고 최근 판다스를 좀 이것저것 찾아보기도 하고 코딩 실력이 많이 부족한 것 같아 구글링도 해보고 공부하고 있었어서 함수들을 써서 해봤는데 조금 더 알아보기 쉽게 코드 짜는게 나았으려나 싶긴하다. 모델 성능 예측하는 부분에서 여러 모델을 써보고 하이퍼파라미터튜닝도 해보고 싶었는데 너무 오래걸리고 시간이 없어서 할 수 있는 걸 충분히 다 못해본 것 같아 아쉽다..오늘은 시간 조정에 실패했다. 문제에 나온 개념들도 제대로 찾아보고 함수도 찾아보고 분석 결과와 비즈니스 전략 고민을 오래 하느라 시간을 많이 써버렸다ㅜ다음엔 더 효율적으로 분석하려고 해야겠다!"
      ],
      "metadata": {
        "id": "Z7sX-WJhg236"
      }
    },
    {
      "cell_type": "code",
      "source": [],
      "metadata": {
        "id": "Pr10Iew0sR1Z"
      },
      "execution_count": null,
      "outputs": []
    }
  ]
}